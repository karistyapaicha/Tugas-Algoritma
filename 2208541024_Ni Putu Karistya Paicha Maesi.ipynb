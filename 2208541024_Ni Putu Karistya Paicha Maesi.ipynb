{
 "cells": [
  {
   "cell_type": "code",
   "execution_count": 3,
   "id": "c0161095",
   "metadata": {},
   "outputs": [
    {
     "ename": "SyntaxError",
     "evalue": "EOL while scanning string literal (608009930.py, line 4)",
     "output_type": "error",
     "traceback": [
      "\u001b[1;36m  File \u001b[1;32m\"C:\\Users\\Asus\\AppData\\Local\\Temp\\ipykernel_11792\\608009930.py\"\u001b[1;36m, line \u001b[1;32m4\u001b[0m\n\u001b[1;33m    print(\"Hii + nama + welcoming + pesan)\u001b[0m\n\u001b[1;37m                                          ^\u001b[0m\n\u001b[1;31mSyntaxError\u001b[0m\u001b[1;31m:\u001b[0m EOL while scanning string literal\n"
     ]
    }
   ],
   "source": [
    "nama=(' Ni Putu Karistya Paicha Maesi')\n",
    "welcoming =' Selamat memasuki fase kedewasaan'\n",
    "pesan=' Semoga makin waras'\n",
    "print(\"Hii + nama + welcoming + pesan)\n",
    "      #kurang tanda \"\" saat kata hii"
   ]
  },
  {
   "cell_type": "code",
   "execution_count": 4,
   "id": "988c6eb9",
   "metadata": {},
   "outputs": [
    {
     "name": "stdout",
     "output_type": "stream",
     "text": [
      "Hii Ni Putu Karistya Paicha Maesi Selamat memasuki fase kedewasaan Semoga makin waras\n"
     ]
    }
   ],
   "source": [
    "nama=(' Ni Putu Karistya Paicha Maesi')\n",
    "welcoming =' Selamat memasuki fase kedewasaan'\n",
    "pesan=' Semoga makin waras'\n",
    "print(\"Hii\" + nama + welcoming + pesan)\n"
   ]
  },
  {
   "cell_type": "code",
   "execution_count": 1,
   "id": "49749047",
   "metadata": {},
   "outputs": [
    {
     "name": "stdout",
     "output_type": "stream",
     "text": [
      " Hari ini kita belajar algoritma aku duduk bersama manusia babi yaitu gunggek wanda dan marsanda\n"
     ]
    }
   ],
   "source": [
    "cerita_hari_ini=(' Hari ini kita belajar algoritma')\n",
    "tempat_duduk=(' aku duduk bersama manusia babi')\n",
    "nama_teman1=(' yaitu gunggek')\n",
    "nama_teman2=(' wanda')\n",
    "nama_teman3=(' dan marsanda')\n",
    "print(cerita_hari_ini+tempat_duduk+nama_teman1+nama_teman2+nama_teman3)"
   ]
  },
  {
   "cell_type": "code",
   "execution_count": 2,
   "id": "a32c2eb4",
   "metadata": {},
   "outputs": [
    {
     "name": "stdout",
     "output_type": "stream",
     "text": [
      "uang di dompet saya adalah100000\n",
      "uang di atm saya adalah5000\n",
      "jadi total uang aku adalah1000005000\n"
     ]
    }
   ],
   "source": [
    "dompet= input(\"uang di dompet saya adalah\")\n",
    "atm= input(\"uang di atm saya adalah\")\n",
    "#total = int(dompet) + int(atm)\n",
    "print ('jadi total uang aku adalah' + str(dompet+atm))\n",
    "#ga pake int jadinya tidak bisa mentotalkan"
   ]
  },
  {
   "cell_type": "code",
   "execution_count": 13,
   "id": "de2a237c",
   "metadata": {},
   "outputs": [
    {
     "name": "stdout",
     "output_type": "stream",
     "text": [
      "uang di dompet saya adalah70000\n"
     ]
    },
    {
     "ename": "NameError",
     "evalue": "name 'inpu' is not defined",
     "output_type": "error",
     "traceback": [
      "\u001b[1;31m---------------------------------------------------------------------------\u001b[0m",
      "\u001b[1;31mNameError\u001b[0m                                 Traceback (most recent call last)",
      "\u001b[1;32m~\\AppData\\Local\\Temp\\ipykernel_13508\\3332638069.py\u001b[0m in \u001b[0;36m<module>\u001b[1;34m\u001b[0m\n\u001b[0;32m      1\u001b[0m \u001b[0mdompet\u001b[0m\u001b[1;33m=\u001b[0m \u001b[0mint\u001b[0m\u001b[1;33m(\u001b[0m\u001b[0minput\u001b[0m\u001b[1;33m(\u001b[0m\u001b[1;34m\"uang di dompet saya adalah\"\u001b[0m\u001b[1;33m)\u001b[0m\u001b[1;33m)\u001b[0m\u001b[1;33m\u001b[0m\u001b[1;33m\u001b[0m\u001b[0m\n\u001b[1;32m----> 2\u001b[1;33m \u001b[0matm\u001b[0m\u001b[1;33m=\u001b[0m \u001b[0mint\u001b[0m\u001b[1;33m(\u001b[0m\u001b[0minpu\u001b[0m\u001b[1;33m(\u001b[0m\u001b[1;34m\"uang di atm saya adalah\"\u001b[0m\u001b[1;33m)\u001b[0m\u001b[1;33m)\u001b[0m\u001b[1;33m\u001b[0m\u001b[1;33m\u001b[0m\u001b[0m\n\u001b[0m\u001b[0;32m      3\u001b[0m \u001b[1;31m#total = int(dompet) + int(atm)\u001b[0m\u001b[1;33m\u001b[0m\u001b[1;33m\u001b[0m\u001b[0m\n\u001b[0;32m      4\u001b[0m \u001b[0mprint\u001b[0m \u001b[1;33m(\u001b[0m\u001b[1;34m'jadi total uang aku adalah'\u001b[0m \u001b[1;33m+\u001b[0m \u001b[0mstr\u001b[0m\u001b[1;33m(\u001b[0m\u001b[0mdompet\u001b[0m\u001b[1;33m+\u001b[0m\u001b[0matm\u001b[0m\u001b[1;33m)\u001b[0m\u001b[1;33m)\u001b[0m\u001b[1;33m\u001b[0m\u001b[1;33m\u001b[0m\u001b[0m\n\u001b[0;32m      5\u001b[0m \u001b[1;31m#kurang spasi sebelum tanda kutip\u001b[0m\u001b[1;33m\u001b[0m\u001b[1;33m\u001b[0m\u001b[0m\n",
      "\u001b[1;31mNameError\u001b[0m: name 'inpu' is not defined"
     ]
    }
   ],
   "source": [
    "dompet= int(input(\"uang di dompet saya adalah\"))\n",
    "atm= int(inpu(\"uang di atm saya adalah\"))\n",
    "#total = int(dompet) + int(atm)\n",
    "print ('jadi total uang aku adalah' + str(dompet+atm))\n",
    "#kurang huruf t pada input"
   ]
  },
  {
   "cell_type": "code",
   "execution_count": 9,
   "id": "f02095f7",
   "metadata": {
    "scrolled": true
   },
   "outputs": [
    {
     "name": "stdout",
     "output_type": "stream",
     "text": [
      "uang di dompet saya adalah 120000\n",
      "uang di atm saya adalah 50000\n",
      "jadi total uang aku adalah 170000\n"
     ]
    }
   ],
   "source": [
    "dompet= int(input(\"uang di dompet saya adalah \"))\n",
    "atm= int(input(\"uang di atm saya adalah \"))\n",
    "#total = int(dompet) + int(atm)\n",
    "print ('jadi total uang aku adalah ' + str(dompet + atm))"
   ]
  },
  {
   "cell_type": "code",
   "execution_count": 1,
   "id": "ea48c725",
   "metadata": {},
   "outputs": [
    {
     "ename": "NameError",
     "evalue": "name 'pangilan' is not defined",
     "output_type": "error",
     "traceback": [
      "\u001b[1;31m---------------------------------------------------------------------------\u001b[0m",
      "\u001b[1;31mNameError\u001b[0m                                 Traceback (most recent call last)",
      "\u001b[1;32m~\\AppData\\Local\\Temp\\ipykernel_11792\\885761995.py\u001b[0m in \u001b[0;36m<module>\u001b[1;34m\u001b[0m\n\u001b[0;32m      6\u001b[0m \u001b[0mteman1\u001b[0m\u001b[1;33m=\u001b[0m\u001b[1;33m(\u001b[0m\u001b[1;34m'Muti '\u001b[0m\u001b[1;33m)\u001b[0m\u001b[1;33m\u001b[0m\u001b[1;33m\u001b[0m\u001b[0m\n\u001b[0;32m      7\u001b[0m \u001b[0mteman2\u001b[0m\u001b[1;33m=\u001b[0m\u001b[1;33m(\u001b[0m\u001b[1;34m'Diva '\u001b[0m\u001b[1;33m)\u001b[0m\u001b[1;33m\u001b[0m\u001b[1;33m\u001b[0m\u001b[0m\n\u001b[1;32m----> 8\u001b[1;33m \u001b[0mprint\u001b[0m\u001b[1;33m(\u001b[0m\u001b[1;34m'Hii kenalin aku '\u001b[0m\u001b[1;33m+\u001b[0m \u001b[0mnama\u001b[0m \u001b[1;33m+\u001b[0m\u001b[1;34m'aku biasa di panggil '\u001b[0m\u001b[1;33m+\u001b[0m \u001b[0mpangilan\u001b[0m \u001b[1;33m+\u001b[0m \u001b[1;34m'aku lahir '\u001b[0m \u001b[1;33m+\u001b[0m \u001b[0mlahir\u001b[0m \u001b[1;33m+\u001b[0m \u001b[1;34m'tempatnya '\u001b[0m \u001b[1;33m+\u001b[0m \u001b[0mtempat\u001b[0m \u001b[1;33m+\u001b[0m \u001b[1;34m'hobi ku '\u001b[0m\u001b[1;33m+\u001b[0m \u001b[0mhobi\u001b[0m\u001b[1;33m)\u001b[0m\u001b[1;33m\u001b[0m\u001b[1;33m\u001b[0m\u001b[0m\n\u001b[0m",
      "\u001b[1;31mNameError\u001b[0m: name 'pangilan' is not defined"
     ]
    }
   ],
   "source": [
    "nama=('Ni Putu Karistya Paicha Maesi ')\n",
    "panggilan=('Tya ')\n",
    "lahir=('13 agustus 2004 ')\n",
    "tempat=('Denpasar ')\n",
    "hobi=('Membaca Komik ')\n",
    "teman1=('Muti ')\n",
    "teman2=('Diva ')\n",
    "print('Hii kenalin aku '+ nama +'aku biasa di panggil '+ pangilan + 'aku lahir ' + lahir + 'tempatnya ' + tempat + 'hobi ku '+ hobi)\n",
    "#kurang g dalam kata panggilan"
   ]
  },
  {
   "cell_type": "code",
   "execution_count": 2,
   "id": "a4171bfb",
   "metadata": {},
   "outputs": [
    {
     "name": "stdout",
     "output_type": "stream",
     "text": [
      "Hii kenalin aku Ni Putu Karistya Paicha Maesi aku biasa di panggil Tya aku lahir 13 agustus 2004 tempatnya Denpasar hobi ku Membaca Komik \n"
     ]
    }
   ],
   "source": [
    "nama=('Ni Putu Karistya Paicha Maesi ')\n",
    "panggilan=('Tya ')\n",
    "lahir=('13 agustus 2004 ')\n",
    "tempat=('Denpasar ')\n",
    "hobi=('Membaca Komik ')\n",
    "teman1=('Muti ')\n",
    "teman2=('Diva ')\n",
    "print('Hii kenalin aku '+ nama +'aku biasa di panggil '+ panggilan + 'aku lahir ' + lahir + 'tempatnya ' + tempat + 'hobi ku '+ hobi)"
   ]
  },
  {
   "cell_type": "code",
   "execution_count": null,
   "id": "e67ea69f",
   "metadata": {},
   "outputs": [],
   "source": []
  },
  {
   "cell_type": "code",
   "execution_count": null,
   "id": "bb35e15a",
   "metadata": {},
   "outputs": [],
   "source": []
  }
 ],
 "metadata": {
  "kernelspec": {
   "display_name": "Python 3 (ipykernel)",
   "language": "python",
   "name": "python3"
  },
  "language_info": {
   "codemirror_mode": {
    "name": "ipython",
    "version": 3
   },
   "file_extension": ".py",
   "mimetype": "text/x-python",
   "name": "python",
   "nbconvert_exporter": "python",
   "pygments_lexer": "ipython3",
   "version": "3.9.13"
  }
 },
 "nbformat": 4,
 "nbformat_minor": 5
}
