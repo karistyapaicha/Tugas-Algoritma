{
 "cells": [
  {
   "cell_type": "markdown",
   "id": "8347d853",
   "metadata": {},
   "source": [
    "# STRING INDEKS"
   ]
  },
  {
   "cell_type": "code",
   "execution_count": 3,
   "id": "e4fe145c",
   "metadata": {},
   "outputs": [],
   "source": [
    "kelas = 'ini kelas algoritma'\n",
    "#dari awal huruf nya dihitung dari 0,spasi juga di masuk hitungan"
   ]
  },
  {
   "cell_type": "code",
   "execution_count": 4,
   "id": "6af2f7a0",
   "metadata": {},
   "outputs": [
    {
     "name": "stdout",
     "output_type": "stream",
     "text": [
      "ini\n"
     ]
    }
   ],
   "source": [
    "print(kelas[0:3])\n",
    "#angka0 itu awal hurufnya lalu :3 itu artinya batas"
   ]
  },
  {
   "cell_type": "code",
   "execution_count": 5,
   "id": "09752a48",
   "metadata": {},
   "outputs": [
    {
     "name": "stdout",
     "output_type": "stream",
     "text": [
      "ini kelas algoritm\n"
     ]
    }
   ],
   "source": [
    "print(kelas[0:-1])\n",
    "#hitungan (-angka itu dimulai dari belakang seperti (-1 itu adalah dari huruf a))"
   ]
  },
  {
   "cell_type": "code",
   "execution_count": 6,
   "id": "6a09c1d9",
   "metadata": {},
   "outputs": [
    {
     "name": "stdout",
     "output_type": "stream",
     "text": [
      "elas algoritm\n"
     ]
    }
   ],
   "source": [
    "print(kelas[5:-1])\n",
    "#di mulai dari huruf ke termasuk spasi lalu dibatasi (-1)"
   ]
  },
  {
   "cell_type": "code",
   "execution_count": 7,
   "id": "cdebe3ff",
   "metadata": {},
   "outputs": [
    {
     "name": "stdout",
     "output_type": "stream",
     "text": [
      "ieslrm\n"
     ]
    }
   ],
   "source": [
    "print(kelas[2:-1:3])\n",
    "#misalkan a:b:c a itu mulai dari hitungan a lalu b itu batas akhirnya, c itu loncatan dari huruf ke a"
   ]
  },
  {
   "cell_type": "code",
   "execution_count": 8,
   "id": "ff8cd3b5",
   "metadata": {},
   "outputs": [
    {
     "name": "stdout",
     "output_type": "stream",
     "text": [
      "t\n"
     ]
    }
   ],
   "source": [
    "print(kelas[-3])\n",
    "#kalau ga pakai :artinya diminta huruf yang ke -3"
   ]
  },
  {
   "cell_type": "code",
   "execution_count": 9,
   "id": "b21fd29a",
   "metadata": {},
   "outputs": [
    {
     "name": "stdout",
     "output_type": "stream",
     "text": [
      "ini kelas algori\n"
     ]
    }
   ],
   "source": [
    "print(kelas[:-3])\n",
    "#kalau pakai : artinya batas hurufnya sampai itungan ke -3"
   ]
  },
  {
   "cell_type": "code",
   "execution_count": 10,
   "id": "631b264f",
   "metadata": {},
   "outputs": [
    {
     "name": "stdout",
     "output_type": "stream",
     "text": [
      "ni kelas algoritma\n"
     ]
    }
   ],
   "source": [
    "print(kelas[1:])\n",
    "# jika bentuk nya a: artinya hurufnya dimulai dari huruf ke 1"
   ]
  },
  {
   "cell_type": "code",
   "execution_count": 11,
   "id": "55c27134",
   "metadata": {},
   "outputs": [
    {
     "name": "stdout",
     "output_type": "stream",
     "text": [
      "ini kelas algoritma\n"
     ]
    }
   ],
   "source": [
    "print(kelas[:])\n",
    "#bentuk seperti ini artinya tidak memiliki mulai dan batas"
   ]
  },
  {
   "cell_type": "markdown",
   "id": "c17fee80",
   "metadata": {},
   "source": [
    "# coba lagi "
   ]
  },
  {
   "cell_type": "code",
   "execution_count": 6,
   "id": "3096927c",
   "metadata": {},
   "outputs": [],
   "source": [
    "nama = 'Ni Putu Karistya Paicha Maesi'"
   ]
  },
  {
   "cell_type": "code",
   "execution_count": 3,
   "id": "36a70783",
   "metadata": {},
   "outputs": [
    {
     "ename": "NameError",
     "evalue": "name 'kelas' is not defined",
     "output_type": "error",
     "traceback": [
      "\u001b[1;31m---------------------------------------------------------------------------\u001b[0m",
      "\u001b[1;31mNameError\u001b[0m                                 Traceback (most recent call last)",
      "\u001b[1;32m~\\AppData\\Local\\Temp\\ipykernel_11940\\2788121839.py\u001b[0m in \u001b[0;36m<module>\u001b[1;34m\u001b[0m\n\u001b[1;32m----> 1\u001b[1;33m \u001b[0mprint\u001b[0m\u001b[1;33m(\u001b[0m\u001b[0mkelas\u001b[0m\u001b[1;33m[\u001b[0m\u001b[1;36m1\u001b[0m\u001b[1;33m:\u001b[0m\u001b[1;36m3\u001b[0m\u001b[1;33m]\u001b[0m\u001b[1;33m)\u001b[0m\u001b[1;33m\u001b[0m\u001b[1;33m\u001b[0m\u001b[0m\n\u001b[0m",
      "\u001b[1;31mNameError\u001b[0m: name 'kelas' is not defined"
     ]
    }
   ],
   "source": [
    "print(kelas[1:3])\n",
    "#karna seharusnya nama bukan kelas"
   ]
  },
  {
   "cell_type": "code",
   "execution_count": 8,
   "id": "a4c6a238",
   "metadata": {},
   "outputs": [
    {
     "name": "stdout",
     "output_type": "stream",
     "text": [
      "i Pu\n"
     ]
    }
   ],
   "source": [
    "print(nama[1:5])"
   ]
  },
  {
   "cell_type": "code",
   "execution_count": 9,
   "id": "90351ed9",
   "metadata": {},
   "outputs": [
    {
     "name": "stdout",
     "output_type": "stream",
     "text": [
      "i Putu Karistya Paicha \n"
     ]
    }
   ],
   "source": [
    "print(nama[1:-5])"
   ]
  },
  {
   "cell_type": "code",
   "execution_count": 10,
   "id": "76869dd8",
   "metadata": {},
   "outputs": [
    {
     "name": "stdout",
     "output_type": "stream",
     "text": [
      "tu Karistya Paicha\n"
     ]
    }
   ],
   "source": [
    "print(nama[5:-6])"
   ]
  },
  {
   "cell_type": "code",
   "execution_count": 12,
   "id": "4fa7e7d7",
   "metadata": {},
   "outputs": [
    {
     "name": "stdout",
     "output_type": "stream",
     "text": [
      "iu rt ia\n"
     ]
    }
   ],
   "source": [
    "print(nama[1:-4:3])"
   ]
  },
  {
   "cell_type": "code",
   "execution_count": 13,
   "id": "aee83e4a",
   "metadata": {},
   "outputs": [
    {
     "name": "stdout",
     "output_type": "stream",
     "text": [
      " Putu Karistya Paicha Maesi\n"
     ]
    }
   ],
   "source": [
    "print(nama[2:])"
   ]
  },
  {
   "cell_type": "code",
   "execution_count": 14,
   "id": "01161808",
   "metadata": {},
   "outputs": [
    {
     "name": "stdout",
     "output_type": "stream",
     "text": [
      "Ni Putu Karistya Paicha Maesi\n"
     ]
    }
   ],
   "source": [
    "print(nama[:])"
   ]
  },
  {
   "cell_type": "markdown",
   "id": "4ff06f67",
   "metadata": {},
   "source": [
    "# string methods"
   ]
  },
  {
   "cell_type": "code",
   "execution_count": 12,
   "id": "e038bf5d",
   "metadata": {},
   "outputs": [],
   "source": [
    "judul = 'Bali Surga Dunia'"
   ]
  },
  {
   "cell_type": "code",
   "execution_count": 13,
   "id": "775cc677",
   "metadata": {},
   "outputs": [
    {
     "name": "stdout",
     "output_type": "stream",
     "text": [
      "16\n"
     ]
    }
   ],
   "source": [
    "print(len(judul))"
   ]
  },
  {
   "cell_type": "code",
   "execution_count": 14,
   "id": "f568bb9e",
   "metadata": {},
   "outputs": [
    {
     "data": {
      "text/plain": [
       "'BALI SURGA DUNIA'"
      ]
     },
     "execution_count": 14,
     "metadata": {},
     "output_type": "execute_result"
    }
   ],
   "source": [
    "judul.upper()"
   ]
  },
  {
   "cell_type": "code",
   "execution_count": 15,
   "id": "285566b1",
   "metadata": {},
   "outputs": [
    {
     "data": {
      "text/plain": [
       "'bali surga dunia'"
      ]
     },
     "execution_count": 15,
     "metadata": {},
     "output_type": "execute_result"
    }
   ],
   "source": [
    "judul.lower()"
   ]
  },
  {
   "cell_type": "code",
   "execution_count": 16,
   "id": "d96c1fd0",
   "metadata": {},
   "outputs": [
    {
     "data": {
      "text/plain": [
       "-1"
      ]
     },
     "execution_count": 16,
     "metadata": {},
     "output_type": "execute_result"
    }
   ],
   "source": [
    "judul.find('surga')\n",
    "#jika output nya -1 artinya kita salah input yang dimana sehausnya pakai s besar(S)"
   ]
  },
  {
   "cell_type": "code",
   "execution_count": 17,
   "id": "f559e8cd",
   "metadata": {},
   "outputs": [
    {
     "data": {
      "text/plain": [
       "5"
      ]
     },
     "execution_count": 17,
     "metadata": {},
     "output_type": "execute_result"
    }
   ],
   "source": [
    "judul.find('Surga')\n",
    "#uotput angka 5 artinya dimulai pada huruf ke 5"
   ]
  },
  {
   "cell_type": "code",
   "execution_count": 18,
   "id": "02100bab",
   "metadata": {},
   "outputs": [
    {
     "data": {
      "text/plain": [
       "0"
      ]
     },
     "execution_count": 18,
     "metadata": {},
     "output_type": "execute_result"
    }
   ],
   "source": [
    "judul.find('Bali')"
   ]
  },
  {
   "cell_type": "code",
   "execution_count": 19,
   "id": "d8cfb057",
   "metadata": {},
   "outputs": [
    {
     "data": {
      "text/plain": [
       "'Bali Surga Dunia'"
      ]
     },
     "execution_count": 19,
     "metadata": {},
     "output_type": "execute_result"
    }
   ],
   "source": [
    "judul.replace('bali','Indonesia')\n",
    "#outputnya gamau replace karena kata bali menggunakan huruf b kecil"
   ]
  },
  {
   "cell_type": "code",
   "execution_count": 20,
   "id": "e61778db",
   "metadata": {},
   "outputs": [
    {
     "data": {
      "text/plain": [
       "'Indonesia Surga Dunia'"
      ]
     },
     "execution_count": 20,
     "metadata": {},
     "output_type": "execute_result"
    }
   ],
   "source": [
    "judul.replace('Bali', 'Indonesia')\n",
    "#artinya ganti kata bali dengan kata indonesia"
   ]
  },
  {
   "cell_type": "code",
   "execution_count": 21,
   "id": "ac60ec2f",
   "metadata": {},
   "outputs": [
    {
     "name": "stdout",
     "output_type": "stream",
     "text": [
      "True\n"
     ]
    }
   ],
   "source": [
    "print('Bali' in judul)"
   ]
  },
  {
   "cell_type": "code",
   "execution_count": 22,
   "id": "aa62a2b4",
   "metadata": {},
   "outputs": [
    {
     "name": "stdout",
     "output_type": "stream",
     "text": [
      "False\n"
     ]
    }
   ],
   "source": [
    "print('bali' in judul)"
   ]
  },
  {
   "cell_type": "markdown",
   "id": "64cb6177",
   "metadata": {},
   "source": [
    "# coba coba"
   ]
  },
  {
   "cell_type": "code",
   "execution_count": 23,
   "id": "1b75d4e5",
   "metadata": {},
   "outputs": [],
   "source": [
    "grup = 'Grup Whatshapp Kami Bernama Babi'"
   ]
  },
  {
   "cell_type": "code",
   "execution_count": 24,
   "id": "1bca9fc7",
   "metadata": {},
   "outputs": [
    {
     "name": "stdout",
     "output_type": "stream",
     "text": [
      "32\n"
     ]
    }
   ],
   "source": [
    "print(len(grup))"
   ]
  },
  {
   "cell_type": "code",
   "execution_count": 25,
   "id": "9e01e709",
   "metadata": {},
   "outputs": [
    {
     "data": {
      "text/plain": [
       "'GRUP WHATSHAPP KAMI BERNAMA BABI'"
      ]
     },
     "execution_count": 25,
     "metadata": {},
     "output_type": "execute_result"
    }
   ],
   "source": [
    "grup.upper()"
   ]
  },
  {
   "cell_type": "code",
   "execution_count": 26,
   "id": "76a0f7db",
   "metadata": {},
   "outputs": [
    {
     "data": {
      "text/plain": [
       "'grup whatshapp kami bernama babi'"
      ]
     },
     "execution_count": 26,
     "metadata": {},
     "output_type": "execute_result"
    }
   ],
   "source": [
    "grup.lower()"
   ]
  },
  {
   "cell_type": "code",
   "execution_count": 27,
   "id": "92d70a72",
   "metadata": {},
   "outputs": [
    {
     "data": {
      "text/plain": [
       "28"
      ]
     },
     "execution_count": 27,
     "metadata": {},
     "output_type": "execute_result"
    }
   ],
   "source": [
    "grup.find('Babi')"
   ]
  },
  {
   "cell_type": "code",
   "execution_count": 29,
   "id": "ac30758e",
   "metadata": {},
   "outputs": [
    {
     "data": {
      "text/plain": [
       "15"
      ]
     },
     "execution_count": 29,
     "metadata": {},
     "output_type": "execute_result"
    }
   ],
   "source": [
    "grup.find('Kami')"
   ]
  },
  {
   "cell_type": "code",
   "execution_count": 2,
   "id": "26b50c1e",
   "metadata": {},
   "outputs": [
    {
     "ename": "NameError",
     "evalue": "name 'grup' is not defined",
     "output_type": "error",
     "traceback": [
      "\u001b[1;31m---------------------------------------------------------------------------\u001b[0m",
      "\u001b[1;31mNameError\u001b[0m                                 Traceback (most recent call last)",
      "\u001b[1;32m~\\AppData\\Local\\Temp\\ipykernel_11940\\3654120967.py\u001b[0m in \u001b[0;36m<module>\u001b[1;34m\u001b[0m\n\u001b[1;32m----> 1\u001b[1;33m \u001b[0mgrup\u001b[0m\u001b[1;33m.\u001b[0m\u001b[0mfind\u001b[0m\u001b[1;33m(\u001b[0m\u001b[1;34m'kami'\u001b[0m\u001b[1;33m)\u001b[0m\u001b[1;33m\u001b[0m\u001b[1;33m\u001b[0m\u001b[0m\n\u001b[0m",
      "\u001b[1;31mNameError\u001b[0m: name 'grup' is not defined"
     ]
    }
   ],
   "source": [
    "grup.find('kami')\n",
    "#karna pada perintah di atas kami menggunakan K besar"
   ]
  },
  {
   "cell_type": "markdown",
   "id": "51de022f",
   "metadata": {},
   "source": [
    "# OPERASI MATEMATIKA DI PHYTON"
   ]
  },
  {
   "cell_type": "code",
   "execution_count": 30,
   "id": "af7aad6d",
   "metadata": {},
   "outputs": [
    {
     "name": "stdout",
     "output_type": "stream",
     "text": [
      "5\n"
     ]
    }
   ],
   "source": [
    "print(2+3)"
   ]
  },
  {
   "cell_type": "code",
   "execution_count": 31,
   "id": "2d379334",
   "metadata": {},
   "outputs": [
    {
     "name": "stdout",
     "output_type": "stream",
     "text": [
      "-1\n"
     ]
    }
   ],
   "source": [
    "print(2-3)"
   ]
  },
  {
   "cell_type": "code",
   "execution_count": 32,
   "id": "cab51c00",
   "metadata": {},
   "outputs": [
    {
     "name": "stdout",
     "output_type": "stream",
     "text": [
      "6\n"
     ]
    }
   ],
   "source": [
    "print(2*3)"
   ]
  },
  {
   "cell_type": "code",
   "execution_count": 33,
   "id": "751e3ade",
   "metadata": {},
   "outputs": [
    {
     "name": "stdout",
     "output_type": "stream",
     "text": [
      "2.3333333333333335\n"
     ]
    }
   ],
   "source": [
    "print(7/3)"
   ]
  },
  {
   "cell_type": "code",
   "execution_count": 34,
   "id": "b3f7adf4",
   "metadata": {},
   "outputs": [
    {
     "name": "stdout",
     "output_type": "stream",
     "text": [
      "2\n"
     ]
    }
   ],
   "source": [
    "print(7//3)"
   ]
  },
  {
   "cell_type": "code",
   "execution_count": 35,
   "id": "8bfe607d",
   "metadata": {},
   "outputs": [
    {
     "name": "stdout",
     "output_type": "stream",
     "text": [
      "1\n"
     ]
    }
   ],
   "source": [
    "print(7%3)"
   ]
  },
  {
   "cell_type": "code",
   "execution_count": 36,
   "id": "a68becc7",
   "metadata": {},
   "outputs": [
    {
     "name": "stdout",
     "output_type": "stream",
     "text": [
      "8\n"
     ]
    }
   ],
   "source": [
    "print(2**3)\n",
    "x=3\n",
    "x+=1"
   ]
  },
  {
   "cell_type": "code",
   "execution_count": 37,
   "id": "cd4782eb",
   "metadata": {},
   "outputs": [
    {
     "name": "stdout",
     "output_type": "stream",
     "text": [
      "4\n"
     ]
    }
   ],
   "source": [
    "print(x)\n",
    "x-=2"
   ]
  },
  {
   "cell_type": "code",
   "execution_count": 38,
   "id": "780c08e7",
   "metadata": {},
   "outputs": [
    {
     "name": "stdout",
     "output_type": "stream",
     "text": [
      "2\n"
     ]
    }
   ],
   "source": [
    "print(x)\n",
    "x*=3"
   ]
  },
  {
   "cell_type": "code",
   "execution_count": 39,
   "id": "80b0a659",
   "metadata": {},
   "outputs": [
    {
     "name": "stdout",
     "output_type": "stream",
     "text": [
      "6\n"
     ]
    }
   ],
   "source": [
    "print(x)"
   ]
  },
  {
   "cell_type": "code",
   "execution_count": 40,
   "id": "e68a4ca5",
   "metadata": {},
   "outputs": [
    {
     "name": "stdout",
     "output_type": "stream",
     "text": [
      "True\n"
     ]
    }
   ],
   "source": [
    "x = 3>2\n",
    "print(x)"
   ]
  },
  {
   "cell_type": "code",
   "execution_count": 41,
   "id": "45ab2bc6",
   "metadata": {},
   "outputs": [
    {
     "name": "stdout",
     "output_type": "stream",
     "text": [
      "True\n"
     ]
    }
   ],
   "source": [
    "x = 2<3\n",
    "print(x)"
   ]
  },
  {
   "cell_type": "code",
   "execution_count": 42,
   "id": "64bd7272",
   "metadata": {},
   "outputs": [
    {
     "name": "stdout",
     "output_type": "stream",
     "text": [
      "True\n"
     ]
    }
   ],
   "source": [
    "x = 3 >=2\n",
    "print(x)"
   ]
  },
  {
   "cell_type": "code",
   "execution_count": 43,
   "id": "1c8e167c",
   "metadata": {},
   "outputs": [
    {
     "name": "stdout",
     "output_type": "stream",
     "text": [
      "True\n"
     ]
    }
   ],
   "source": [
    "x = 2 <= 3\n",
    "print (x)"
   ]
  },
  {
   "cell_type": "code",
   "execution_count": 44,
   "id": "7057ed66",
   "metadata": {},
   "outputs": [
    {
     "name": "stdout",
     "output_type": "stream",
     "text": [
      "True\n"
     ]
    }
   ],
   "source": [
    "x = 3 == 3\n",
    "print(x)"
   ]
  },
  {
   "cell_type": "code",
   "execution_count": 45,
   "id": "80c079c7",
   "metadata": {},
   "outputs": [
    {
     "name": "stdout",
     "output_type": "stream",
     "text": [
      "True\n"
     ]
    }
   ],
   "source": [
    "x = 3 !=4\n",
    "print(x)"
   ]
  },
  {
   "cell_type": "markdown",
   "id": "b3c6529b",
   "metadata": {},
   "source": [
    "# Operasi perbandingan phyton"
   ]
  },
  {
   "cell_type": "code",
   "execution_count": 46,
   "id": "87e4df3d",
   "metadata": {},
   "outputs": [
    {
     "name": "stdout",
     "output_type": "stream",
     "text": [
      "False\n"
     ]
    }
   ],
   "source": [
    "x = 2>3\n",
    "print(x)"
   ]
  },
  {
   "cell_type": "code",
   "execution_count": 47,
   "id": "408d1d76",
   "metadata": {},
   "outputs": [
    {
     "name": "stdout",
     "output_type": "stream",
     "text": [
      "False\n"
     ]
    }
   ],
   "source": [
    "x = 3<2\n",
    "print(x)"
   ]
  },
  {
   "cell_type": "code",
   "execution_count": 48,
   "id": "d39970b7",
   "metadata": {},
   "outputs": [
    {
     "name": "stdout",
     "output_type": "stream",
     "text": [
      "False\n"
     ]
    }
   ],
   "source": [
    "x = 2 >=3\n",
    "print(x)"
   ]
  },
  {
   "cell_type": "code",
   "execution_count": 49,
   "id": "9705efed",
   "metadata": {},
   "outputs": [
    {
     "name": "stdout",
     "output_type": "stream",
     "text": [
      "True\n"
     ]
    }
   ],
   "source": [
    "x = 2 <= 3\n",
    "print (x)"
   ]
  },
  {
   "cell_type": "code",
   "execution_count": 50,
   "id": "d43eeefd",
   "metadata": {},
   "outputs": [
    {
     "name": "stdout",
     "output_type": "stream",
     "text": [
      "False\n"
     ]
    }
   ],
   "source": [
    "x = 3 == 4\n",
    "print(x)"
   ]
  },
  {
   "cell_type": "code",
   "execution_count": 51,
   "id": "d7ef90e6",
   "metadata": {},
   "outputs": [
    {
     "name": "stdout",
     "output_type": "stream",
     "text": [
      "False\n"
     ]
    }
   ],
   "source": [
    "x = 3 !=3\n",
    "print(x)"
   ]
  },
  {
   "cell_type": "markdown",
   "id": "0400bc9c",
   "metadata": {},
   "source": [
    "# Logika di phyton"
   ]
  },
  {
   "cell_type": "code",
   "execution_count": 52,
   "id": "ccb1c689",
   "metadata": {},
   "outputs": [
    {
     "name": "stdout",
     "output_type": "stream",
     "text": [
      "True\n"
     ]
    }
   ],
   "source": [
    "kesabaran_tya = 100\n",
    "kesabaran_marsanda = 10\n",
    "print(kesabaran_tya > 10 and kesabaran_marsanda < 110)"
   ]
  },
  {
   "cell_type": "code",
   "execution_count": 53,
   "id": "436e3ae1",
   "metadata": {},
   "outputs": [
    {
     "name": "stdout",
     "output_type": "stream",
     "text": [
      "False\n"
     ]
    }
   ],
   "source": [
    "kesabaran_tya = 100\n",
    "kesabaran_marsanda = 10\n",
    "print(kesabaran_marsanda > 100 and kesabaran_tya < 10000)"
   ]
  },
  {
   "cell_type": "markdown",
   "id": "82c3795a",
   "metadata": {},
   "source": [
    "# operator if di python"
   ]
  },
  {
   "cell_type": "code",
   "execution_count": 1,
   "id": "afac56e3",
   "metadata": {},
   "outputs": [
    {
     "name": "stdout",
     "output_type": "stream",
     "text": [
      "Nilai anda adalah 88\n",
      "Anda mendapatkan nilai A\n",
      "Bagus sekali, selamat!\n"
     ]
    }
   ],
   "source": [
    "nilai = float(input('Nilai anda adalah '))\n",
    "if nilai >= 80:\n",
    "    print('Anda mendapatkan nilai A')\n",
    "    print('Bagus sekali, selamat!')\n",
    "if nilai < 80 and nilai >= 70:\n",
    "    print('Anda mendapatkan nilai B')\n",
    "    print('Tingkatkan Prestasimu!')\n",
    "if nilai >= 60 and nilai <70:\n",
    "    print('Anda mendapatkan nilai C')\n",
    "    print('Ayo Belajar lagi')\n",
    "if nilai >= 50 and nilai < 60:\n",
    "    print('Anda mendapatkan nilai D')\n",
    "    print('MAIN HAPE TEROSSSSS')\n",
    "if nilai <50:\n",
    "    print('Anda mendapatkan nilai E')\n",
    "    print('goblok nya ga ketolong')"
   ]
  },
  {
   "cell_type": "code",
   "execution_count": 3,
   "id": "63b637b8",
   "metadata": {},
   "outputs": [
    {
     "name": "stdout",
     "output_type": "stream",
     "text": [
      "Berapa tinggi anda? 150\n",
      "Tingginya dalam cm atau inci? cm\n",
      "Tinggi anda adalah 59.055150000000005 inci\n"
     ]
    }
   ],
   "source": [
    "tinggi = float(input('Berapa tinggi anda? '))\n",
    "cm_atau_inci = input('Tingginya dalam cm atau inci? ')\n",
    "\n",
    "if cm_atau_inci.upper() == 'CM' :\n",
    "    tinggi = tinggi*0.393701\n",
    "    print('Tinggi anda adalah ' + str(tinggi) + ' inci')\n",
    "elif cm_atau_inci.upper() == 'INCI' :\n",
    "    tinggi = tinggi/0.393701\n",
    "    print(f'Tinggi anda adalah {tinggi} cm')"
   ]
  },
  {
   "cell_type": "markdown",
   "id": "f8bb0f96",
   "metadata": {},
   "source": [
    "# Coba coba"
   ]
  },
  {
   "cell_type": "code",
   "execution_count": 1,
   "id": "4fce264e",
   "metadata": {},
   "outputs": [
    {
     "name": "stdout",
     "output_type": "stream",
     "text": [
      "Nilai anda adalah75\n",
      "Anda mendapatkan Nilai C\n",
      "Belajar lebih giat lagi ya!\n"
     ]
    }
   ],
   "source": [
    "nilai = float(input('Nilai anda adalah'))\n",
    "if nilai >= 90:\n",
    "    print('Anda mendapatkan Nilai A')\n",
    "    print('Bagus sekali, Selamat ya!')\n",
    "elif nilai >= 80:\n",
    "    print('Anda mendapatkan Nilai B')\n",
    "    print('Kerja bagus, perlu di tingkatkan lagi!')\n",
    "elif nilai >= 70:\n",
    "    print('Anda mendapatkan Nilai C')\n",
    "    print('Belajar lebih giat lagi ya!')\n",
    "elif nilai >= 60:\n",
    "    print('Anda mendapatkan Nilai D')\n",
    "    print('jangan main Hp terus ya!')\n",
    "else :\n",
    "    print('Anda Mendapatkan Nilai E')\n",
    "    print('Sudah tak tertolong')"
   ]
  },
  {
   "cell_type": "code",
   "execution_count": 2,
   "id": "233810df",
   "metadata": {},
   "outputs": [
    {
     "name": "stdout",
     "output_type": "stream",
     "text": [
      "Berapa tinggi anda? 100\n",
      "Tingginya dalam cm atau inci? cm\n",
      "Tinggi anda adalah 39.3701 inci\n"
     ]
    }
   ],
   "source": [
    "tinggi = float(input('Berapa tinggi anda? '))\n",
    "cm_atau_inci = input('Tingginya dalam cm atau inci? ')\n",
    "\n",
    "if cm_atau_inci.upper() == 'CM' :\n",
    "    tinggi = tinggi*0.393701\n",
    "    print('Tinggi anda adalah ' + str(tinggi) + ' inci')\n",
    "elif cm_atau_inci.upper() == 'INCI' :\n",
    "    tinggi = tinggi/0.393701\n",
    "    print(f'Tinggi anda adalah {tinggi} cm')"
   ]
  },
  {
   "cell_type": "code",
   "execution_count": 6,
   "id": "65feee23",
   "metadata": {},
   "outputs": [
    {
     "name": "stdout",
     "output_type": "stream",
     "text": [
      "Berapa berat badan anda? 59\n",
      "Tingginya dalam gram atau kg? kg\n",
      "berat anda adalah 59000.0 gram\n"
     ]
    }
   ],
   "source": [
    "berat = float(input('Berapa berat badan anda? '))\n",
    "kg_atau_gram = input('Tingginya dalam gram atau kg? ')\n",
    "\n",
    "if kg_atau_gram.upper() == 'KG' :\n",
    "    berat = berat*1000\n",
    "    print('berat anda adalah ' + str(berat) + ' gram')\n",
    "elif kg_atau_gram.upper() == 'GRAM' :\n",
    "    berat = berat/1000\n",
    "    print(f'berat anda adalah {berat} KG')"
   ]
  },
  {
   "cell_type": "code",
   "execution_count": null,
   "id": "3ff63060",
   "metadata": {},
   "outputs": [],
   "source": []
  }
 ],
 "metadata": {
  "kernelspec": {
   "display_name": "Python 3 (ipykernel)",
   "language": "python",
   "name": "python3"
  },
  "language_info": {
   "codemirror_mode": {
    "name": "ipython",
    "version": 3
   },
   "file_extension": ".py",
   "mimetype": "text/x-python",
   "name": "python",
   "nbconvert_exporter": "python",
   "pygments_lexer": "ipython3",
   "version": "3.9.13"
  }
 },
 "nbformat": 4,
 "nbformat_minor": 5
}
