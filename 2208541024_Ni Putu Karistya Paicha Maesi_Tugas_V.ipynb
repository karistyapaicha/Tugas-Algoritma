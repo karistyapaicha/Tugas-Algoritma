{
 "cells": [
  {
   "cell_type": "markdown",
   "id": "5fdcfa13",
   "metadata": {},
   "source": [
    "# Materi List 2 Dimensi"
   ]
  },
  {
   "cell_type": "code",
   "execution_count": 1,
   "id": "388aed95",
   "metadata": {},
   "outputs": [
    {
     "name": "stdout",
     "output_type": "stream",
     "text": [
      "[[1, 2, 3, 4], [5, 6, 7, 8], [9, 10, 11, 12], [13, 14, 15, 16]]\n"
     ]
    }
   ],
   "source": [
    "matrik = [\n",
    "    [1,2,3,4],\n",
    "    [5,6,7,8],\n",
    "    [9,10,11,12],\n",
    "    [13,14,15,16]\n",
    "]\n",
    "print(matrik)"
   ]
  },
  {
   "cell_type": "code",
   "execution_count": 2,
   "id": "9f753a98",
   "metadata": {},
   "outputs": [
    {
     "data": {
      "text/plain": [
       "[5, 6, 7, 8]"
      ]
     },
     "execution_count": 2,
     "metadata": {},
     "output_type": "execute_result"
    }
   ],
   "source": [
    "matrik[1]"
   ]
  },
  {
   "cell_type": "code",
   "execution_count": 3,
   "id": "95b4bde5",
   "metadata": {},
   "outputs": [
    {
     "data": {
      "text/plain": [
       "7"
      ]
     },
     "execution_count": 3,
     "metadata": {},
     "output_type": "execute_result"
    }
   ],
   "source": [
    "matrik[1][2]\n",
    "#pada perintah matrik 1 berarti pada baris matrik hitungan 1 lalu di perintahkan lagi dalam baris tersebut dicari matrik hitungan ke 2"
   ]
  },
  {
   "cell_type": "code",
   "execution_count": 4,
   "id": "14fe4b48",
   "metadata": {},
   "outputs": [
    {
     "name": "stdout",
     "output_type": "stream",
     "text": [
      "100\n"
     ]
    }
   ],
   "source": [
    "matrik[1][2]=100\n",
    "print(matrik[1][2])"
   ]
  },
  {
   "cell_type": "code",
   "execution_count": 5,
   "id": "3ca30600",
   "metadata": {},
   "outputs": [
    {
     "data": {
      "text/plain": [
       "[[1, 2, 3, 4], [5, 6, 100, 8], [9, 10, 11, 12], [13, 14, 15, 16]]"
      ]
     },
     "execution_count": 5,
     "metadata": {},
     "output_type": "execute_result"
    }
   ],
   "source": [
    "matrik"
   ]
  },
  {
   "cell_type": "markdown",
   "id": "7a8dd1bc",
   "metadata": {},
   "source": [
    "Contoh Penerapan list 2 dimensi"
   ]
  },
  {
   "cell_type": "code",
   "execution_count": 6,
   "id": "b6dbb097",
   "metadata": {},
   "outputs": [
    {
     "name": "stdout",
     "output_type": "stream",
     "text": [
      "[1, 2, 3, 4]\n",
      "1\n",
      "2\n",
      "3\n",
      "4\n",
      "[5, 6, 100, 8]\n",
      "5\n",
      "6\n",
      "100\n",
      "8\n",
      "[9, 10, 11, 12]\n",
      "9\n",
      "10\n",
      "11\n",
      "12\n",
      "[13, 14, 15, 16]\n",
      "13\n",
      "14\n",
      "15\n",
      "16\n"
     ]
    }
   ],
   "source": [
    "for baris in matrik:\n",
    "    print(baris)\n",
    "    for kolom in baris:\n",
    "        print(kolom)"
   ]
  },
  {
   "cell_type": "markdown",
   "id": "fe128c4e",
   "metadata": {},
   "source": [
    "*Percobaan Materi List 2 Dimensi"
   ]
  },
  {
   "cell_type": "code",
   "execution_count": 7,
   "id": "0b317ac3",
   "metadata": {},
   "outputs": [
    {
     "name": "stdout",
     "output_type": "stream",
     "text": [
      "[[7, 22, 24, 26], [20, 21, 24, 30], [10, 9, 14, 2], [13, 14, 15, 16]]\n"
     ]
    }
   ],
   "source": [
    "matrik = [\n",
    "    [7,22,24,26],\n",
    "    [20,21,24,30],\n",
    "    [10,9,14,2],\n",
    "    [13,14,15,16]\n",
    "]\n",
    "print(matrik)"
   ]
  },
  {
   "cell_type": "code",
   "execution_count": 8,
   "id": "2eecfdd0",
   "metadata": {},
   "outputs": [
    {
     "data": {
      "text/plain": [
       "[10, 9, 14, 2]"
      ]
     },
     "execution_count": 8,
     "metadata": {},
     "output_type": "execute_result"
    }
   ],
   "source": [
    "matrik[2]\n",
    "#Meminta matrik pada hitungan ke 2"
   ]
  },
  {
   "cell_type": "code",
   "execution_count": 9,
   "id": "9720a388",
   "metadata": {},
   "outputs": [
    {
     "data": {
      "text/plain": [
       "2"
      ]
     },
     "execution_count": 9,
     "metadata": {},
     "output_type": "execute_result"
    }
   ],
   "source": [
    "matrik [2][3]"
   ]
  },
  {
   "cell_type": "code",
   "execution_count": 10,
   "id": "e9237447",
   "metadata": {},
   "outputs": [
    {
     "name": "stdout",
     "output_type": "stream",
     "text": [
      "599\n"
     ]
    }
   ],
   "source": [
    "matrik[2][3]=599\n",
    "print(matrik[2][3])"
   ]
  },
  {
   "cell_type": "code",
   "execution_count": 11,
   "id": "21cba584",
   "metadata": {},
   "outputs": [
    {
     "data": {
      "text/plain": [
       "[[7, 22, 24, 26], [20, 21, 24, 30], [10, 9, 14, 599], [13, 14, 15, 16]]"
      ]
     },
     "execution_count": 11,
     "metadata": {},
     "output_type": "execute_result"
    }
   ],
   "source": [
    "matrik"
   ]
  },
  {
   "cell_type": "code",
   "execution_count": 12,
   "id": "374cbb02",
   "metadata": {},
   "outputs": [
    {
     "name": "stdout",
     "output_type": "stream",
     "text": [
      "[7, 22, 24, 26]\n",
      "7\n",
      "22\n",
      "24\n",
      "26\n",
      "[20, 21, 24, 30]\n",
      "20\n",
      "21\n",
      "24\n",
      "30\n",
      "[10, 9, 14, 599]\n",
      "10\n",
      "9\n",
      "14\n",
      "599\n",
      "[13, 14, 15, 16]\n",
      "13\n",
      "14\n",
      "15\n",
      "16\n"
     ]
    }
   ],
   "source": [
    "for baris in matrik:\n",
    "    print(baris)\n",
    "    for kolom in baris:\n",
    "        print(kolom)"
   ]
  },
  {
   "cell_type": "markdown",
   "id": "b00bf886",
   "metadata": {},
   "source": [
    "*Percobaan ke 2"
   ]
  },
  {
   "cell_type": "code",
   "execution_count": 13,
   "id": "6b8f4dfc",
   "metadata": {},
   "outputs": [
    {
     "name": "stdout",
     "output_type": "stream",
     "text": [
      "[[7, 22, 24, 26], [20, 21, 24, 30], [10, 9, 14, 599], [13, 14, 15, 16]]\n"
     ]
    }
   ],
   "source": [
    "nama_teman = [\n",
    "    ['gunggek','wanda','marsanda','tya'],\n",
    "    ['via','anya','sintya','doni'],\n",
    "    ['diva','muti','surya','teguh'],\n",
    "    ['gusde','nanda','gunggita','ayik']\n",
    "]\n",
    "print(matrik)\n",
    "#kali ini output yang keluar adalah masukan data sebelum nya seharusnya di sesuaikan dengan nama teman"
   ]
  },
  {
   "cell_type": "code",
   "execution_count": 14,
   "id": "92ff75f2",
   "metadata": {},
   "outputs": [
    {
     "name": "stdout",
     "output_type": "stream",
     "text": [
      "[['gunggek', 'wanda', 'marsanda', 'tya'], ['via', 'anya', 'sintya', 'doni'], ['diva', 'muti', 'surya', 'teguh'], ['gusde', 'nanda', 'gunggita', 'ayik']]\n"
     ]
    }
   ],
   "source": [
    "nama_teman = [\n",
    "    ['gunggek','wanda','marsanda','tya'],\n",
    "    ['via','anya','sintya','doni'],\n",
    "    ['diva','muti','surya','teguh'],\n",
    "    ['gusde','nanda','gunggita','ayik']\n",
    "]\n",
    "print(nama_teman)"
   ]
  },
  {
   "cell_type": "code",
   "execution_count": 15,
   "id": "f1ac12e1",
   "metadata": {},
   "outputs": [
    {
     "data": {
      "text/plain": [
       "['diva', 'muti', 'surya', 'teguh']"
      ]
     },
     "execution_count": 15,
     "metadata": {},
     "output_type": "execute_result"
    }
   ],
   "source": [
    "nama_teman[2]"
   ]
  },
  {
   "cell_type": "code",
   "execution_count": 16,
   "id": "a0578031",
   "metadata": {},
   "outputs": [
    {
     "data": {
      "text/plain": [
       "'teguh'"
      ]
     },
     "execution_count": 16,
     "metadata": {},
     "output_type": "execute_result"
    }
   ],
   "source": [
    "nama_teman[2][3]"
   ]
  },
  {
   "cell_type": "code",
   "execution_count": 17,
   "id": "a2352300",
   "metadata": {},
   "outputs": [
    {
     "name": "stdout",
     "output_type": "stream",
     "text": [
      "['gunggek', 'wanda', 'marsanda', 'tya']\n",
      "gunggek\n",
      "wanda\n",
      "marsanda\n",
      "tya\n",
      "['via', 'anya', 'sintya', 'doni']\n",
      "via\n",
      "anya\n",
      "sintya\n",
      "doni\n",
      "['diva', 'muti', 'surya', 'teguh']\n",
      "diva\n",
      "muti\n",
      "surya\n",
      "teguh\n",
      "['gusde', 'nanda', 'gunggita', 'ayik']\n",
      "gusde\n",
      "nanda\n",
      "gunggita\n",
      "ayik\n"
     ]
    }
   ],
   "source": [
    "for baris in nama_teman:\n",
    "    print(baris)\n",
    "    for kolom in baris:\n",
    "        print(kolom)"
   ]
  },
  {
   "cell_type": "markdown",
   "id": "20b29379",
   "metadata": {},
   "source": [
    "# Materi Tuples"
   ]
  },
  {
   "cell_type": "code",
   "execution_count": 18,
   "id": "6de24b27",
   "metadata": {},
   "outputs": [],
   "source": [
    "angka = (0,1,1,3,4,5,5)"
   ]
  },
  {
   "cell_type": "code",
   "execution_count": 19,
   "id": "a46a60e3",
   "metadata": {},
   "outputs": [
    {
     "name": "stdout",
     "output_type": "stream",
     "text": [
      "0\n"
     ]
    }
   ],
   "source": [
    "print(angka[0])"
   ]
  },
  {
   "cell_type": "code",
   "execution_count": 20,
   "id": "eff0de9a",
   "metadata": {},
   "outputs": [
    {
     "name": "stdout",
     "output_type": "stream",
     "text": [
      "(0, 1, 1)\n"
     ]
    }
   ],
   "source": [
    "print(angka[0:3])"
   ]
  },
  {
   "cell_type": "code",
   "execution_count": 21,
   "id": "0e5d9254",
   "metadata": {},
   "outputs": [
    {
     "name": "stdout",
     "output_type": "stream",
     "text": [
      "0\n",
      "1\n",
      "1\n"
     ]
    }
   ],
   "source": [
    "for isi in angka[0:3]:\n",
    "    print(isi)"
   ]
  },
  {
   "cell_type": "code",
   "execution_count": 23,
   "id": "c68f9593",
   "metadata": {},
   "outputs": [
    {
     "ename": "TypeError",
     "evalue": "'tuple' object does not support item assignment",
     "output_type": "error",
     "traceback": [
      "\u001b[1;31m---------------------------------------------------------------------------\u001b[0m",
      "\u001b[1;31mTypeError\u001b[0m                                 Traceback (most recent call last)",
      "\u001b[1;32m~\\AppData\\Local\\Temp\\ipykernel_3236\\2461688089.py\u001b[0m in \u001b[0;36m<module>\u001b[1;34m\u001b[0m\n\u001b[1;32m----> 1\u001b[1;33m \u001b[0mangka\u001b[0m\u001b[1;33m[\u001b[0m\u001b[1;36m0\u001b[0m\u001b[1;33m]\u001b[0m \u001b[1;33m=\u001b[0m \u001b[1;36m10\u001b[0m\u001b[1;33m\u001b[0m\u001b[1;33m\u001b[0m\u001b[0m\n\u001b[0m",
      "\u001b[1;31mTypeError\u001b[0m: 'tuple' object does not support item assignment"
     ]
    }
   ],
   "source": [
    "angka[0] = 10"
   ]
  },
  {
   "cell_type": "code",
   "execution_count": 24,
   "id": "ec063534",
   "metadata": {},
   "outputs": [
    {
     "ename": "AttributeError",
     "evalue": "'tuple' object has no attribute 'append'",
     "output_type": "error",
     "traceback": [
      "\u001b[1;31m---------------------------------------------------------------------------\u001b[0m",
      "\u001b[1;31mAttributeError\u001b[0m                            Traceback (most recent call last)",
      "\u001b[1;32m~\\AppData\\Local\\Temp\\ipykernel_3236\\1086000304.py\u001b[0m in \u001b[0;36m<module>\u001b[1;34m\u001b[0m\n\u001b[1;32m----> 1\u001b[1;33m \u001b[0mangka\u001b[0m\u001b[1;33m.\u001b[0m\u001b[0mappend\u001b[0m\u001b[1;33m(\u001b[0m\u001b[1;36m10\u001b[0m\u001b[1;33m)\u001b[0m\u001b[1;33m\u001b[0m\u001b[1;33m\u001b[0m\u001b[0m\n\u001b[0m",
      "\u001b[1;31mAttributeError\u001b[0m: 'tuple' object has no attribute 'append'"
     ]
    }
   ],
   "source": [
    "angka.append(10)"
   ]
  },
  {
   "cell_type": "code",
   "execution_count": 25,
   "id": "0d1ccfa1",
   "metadata": {},
   "outputs": [
    {
     "ename": "AttributeError",
     "evalue": "'tuple' object has no attribute 'remove'",
     "output_type": "error",
     "traceback": [
      "\u001b[1;31m---------------------------------------------------------------------------\u001b[0m",
      "\u001b[1;31mAttributeError\u001b[0m                            Traceback (most recent call last)",
      "\u001b[1;32m~\\AppData\\Local\\Temp\\ipykernel_3236\\2298564591.py\u001b[0m in \u001b[0;36m<module>\u001b[1;34m\u001b[0m\n\u001b[1;32m----> 1\u001b[1;33m \u001b[0mangka\u001b[0m\u001b[1;33m.\u001b[0m\u001b[0mremove\u001b[0m\u001b[1;33m(\u001b[0m\u001b[1;36m5\u001b[0m\u001b[1;33m)\u001b[0m\u001b[1;33m\u001b[0m\u001b[1;33m\u001b[0m\u001b[0m\n\u001b[0m",
      "\u001b[1;31mAttributeError\u001b[0m: 'tuple' object has no attribute 'remove'"
     ]
    }
   ],
   "source": [
    "angka.remove(5)"
   ]
  },
  {
   "cell_type": "code",
   "execution_count": 26,
   "id": "dd52b286",
   "metadata": {},
   "outputs": [
    {
     "data": {
      "text/plain": [
       "2"
      ]
     },
     "execution_count": 26,
     "metadata": {},
     "output_type": "execute_result"
    }
   ],
   "source": [
    "angka.count(5)\n",
    "#pada perintah kali ini bermaksud menghitung berapa jumlah angka 5"
   ]
  },
  {
   "cell_type": "code",
   "execution_count": 27,
   "id": "6db35866",
   "metadata": {},
   "outputs": [
    {
     "data": {
      "text/plain": [
       "4"
      ]
     },
     "execution_count": 27,
     "metadata": {},
     "output_type": "execute_result"
    }
   ],
   "source": [
    "angka.index(4)"
   ]
  },
  {
   "cell_type": "markdown",
   "id": "6ef1446b",
   "metadata": {},
   "source": [
    "*Percobaan materi Tuples"
   ]
  },
  {
   "cell_type": "code",
   "execution_count": 28,
   "id": "14259234",
   "metadata": {},
   "outputs": [],
   "source": [
    "angka_lahir = (13,20,21,24,20,30)"
   ]
  },
  {
   "cell_type": "code",
   "execution_count": 29,
   "id": "4f4366ce",
   "metadata": {},
   "outputs": [
    {
     "ename": "IndexError",
     "evalue": "tuple index out of range",
     "output_type": "error",
     "traceback": [
      "\u001b[1;31m---------------------------------------------------------------------------\u001b[0m",
      "\u001b[1;31mIndexError\u001b[0m                                Traceback (most recent call last)",
      "\u001b[1;32m~\\AppData\\Local\\Temp\\ipykernel_3236\\2142802168.py\u001b[0m in \u001b[0;36m<module>\u001b[1;34m\u001b[0m\n\u001b[1;32m----> 1\u001b[1;33m \u001b[0mprint\u001b[0m\u001b[1;33m(\u001b[0m\u001b[0mangka\u001b[0m\u001b[1;33m[\u001b[0m\u001b[1;36m20\u001b[0m\u001b[1;33m]\u001b[0m\u001b[1;33m)\u001b[0m\u001b[1;33m\u001b[0m\u001b[1;33m\u001b[0m\u001b[0m\n\u001b[0m\u001b[0;32m      2\u001b[0m \u001b[1;31m#output nya error dikarenakan tidak ada data ke 20 karena hitungan data hanya sampai ke 5\u001b[0m\u001b[1;33m\u001b[0m\u001b[1;33m\u001b[0m\u001b[0m\n",
      "\u001b[1;31mIndexError\u001b[0m: tuple index out of range"
     ]
    }
   ],
   "source": [
    "print(angka[20])\n",
    "#output nya error dikarenakan tidak ada data ke 20 karena hitungan data hanya sampai ke 5"
   ]
  },
  {
   "cell_type": "code",
   "execution_count": 30,
   "id": "08e19f1a",
   "metadata": {},
   "outputs": [
    {
     "name": "stdout",
     "output_type": "stream",
     "text": [
      "21\n"
     ]
    }
   ],
   "source": [
    "print(angka_lahir[2])"
   ]
  },
  {
   "cell_type": "code",
   "execution_count": 31,
   "id": "9866c035",
   "metadata": {},
   "outputs": [
    {
     "name": "stdout",
     "output_type": "stream",
     "text": [
      "(13, 20, 21)\n"
     ]
    }
   ],
   "source": [
    "print(angka_lahir[0:3])"
   ]
  },
  {
   "cell_type": "code",
   "execution_count": 32,
   "id": "b4e96837",
   "metadata": {},
   "outputs": [
    {
     "name": "stdout",
     "output_type": "stream",
     "text": [
      "13\n",
      "20\n",
      "21\n"
     ]
    }
   ],
   "source": [
    "for isi in angka_lahir[0:3]:\n",
    "    print(isi)"
   ]
  },
  {
   "cell_type": "code",
   "execution_count": 33,
   "id": "a226826c",
   "metadata": {},
   "outputs": [
    {
     "data": {
      "text/plain": [
       "2"
      ]
     },
     "execution_count": 33,
     "metadata": {},
     "output_type": "execute_result"
    }
   ],
   "source": [
    "angka_lahir.count(20)"
   ]
  },
  {
   "cell_type": "code",
   "execution_count": 34,
   "id": "d1087a1b",
   "metadata": {},
   "outputs": [
    {
     "ename": "ValueError",
     "evalue": "tuple.index(x): x not in tuple",
     "output_type": "error",
     "traceback": [
      "\u001b[1;31m---------------------------------------------------------------------------\u001b[0m",
      "\u001b[1;31mValueError\u001b[0m                                Traceback (most recent call last)",
      "\u001b[1;32m~\\AppData\\Local\\Temp\\ipykernel_3236\\3334958655.py\u001b[0m in \u001b[0;36m<module>\u001b[1;34m\u001b[0m\n\u001b[1;32m----> 1\u001b[1;33m \u001b[0mangka\u001b[0m\u001b[1;33m.\u001b[0m\u001b[0mindex\u001b[0m\u001b[1;33m(\u001b[0m\u001b[1;36m20\u001b[0m\u001b[1;33m)\u001b[0m\u001b[1;33m\u001b[0m\u001b[1;33m\u001b[0m\u001b[0m\n\u001b[0m\u001b[0;32m      2\u001b[0m \u001b[1;31m#output nya error dikarenakan pada perintah di lengkapi yang seharusnya angka_lahir.index(20)\u001b[0m\u001b[1;33m\u001b[0m\u001b[1;33m\u001b[0m\u001b[0m\n",
      "\u001b[1;31mValueError\u001b[0m: tuple.index(x): x not in tuple"
     ]
    }
   ],
   "source": [
    "angka.index(20)\n",
    "#output nya error dikarenakan pada perintah di lengkapi yang seharusnya angka_lahir.index(20)"
   ]
  },
  {
   "cell_type": "code",
   "execution_count": 35,
   "id": "4a83abe9",
   "metadata": {},
   "outputs": [
    {
     "data": {
      "text/plain": [
       "1"
      ]
     },
     "execution_count": 35,
     "metadata": {},
     "output_type": "execute_result"
    }
   ],
   "source": [
    "angka_lahir.index(20)"
   ]
  },
  {
   "cell_type": "markdown",
   "id": "fac8143a",
   "metadata": {},
   "source": [
    "# Materi Dictionaries"
   ]
  },
  {
   "cell_type": "code",
   "execution_count": 36,
   "id": "1a04a2c1",
   "metadata": {},
   "outputs": [],
   "source": [
    "data_orang = {\n",
    "    \"nama\" : \"Ketut Dogler\",\n",
    "    \"umur\" : 12,\n",
    "    \"apakah_singel\" : False\n",
    "}"
   ]
  },
  {
   "cell_type": "code",
   "execution_count": 37,
   "id": "21bf4702",
   "metadata": {},
   "outputs": [
    {
     "name": "stdout",
     "output_type": "stream",
     "text": [
      "Ketut Dogler\n"
     ]
    }
   ],
   "source": [
    "print(data_orang['nama'])"
   ]
  },
  {
   "cell_type": "code",
   "execution_count": 38,
   "id": "7b1ea0de",
   "metadata": {},
   "outputs": [
    {
     "ename": "KeyError",
     "evalue": "'Nama'",
     "output_type": "error",
     "traceback": [
      "\u001b[1;31m---------------------------------------------------------------------------\u001b[0m",
      "\u001b[1;31mKeyError\u001b[0m                                  Traceback (most recent call last)",
      "\u001b[1;32m~\\AppData\\Local\\Temp\\ipykernel_3236\\1883148979.py\u001b[0m in \u001b[0;36m<module>\u001b[1;34m\u001b[0m\n\u001b[1;32m----> 1\u001b[1;33m \u001b[0mprint\u001b[0m\u001b[1;33m(\u001b[0m\u001b[0mdata_orang\u001b[0m\u001b[1;33m[\u001b[0m\u001b[1;34m'Nama'\u001b[0m\u001b[1;33m]\u001b[0m\u001b[1;33m)\u001b[0m\u001b[1;33m\u001b[0m\u001b[1;33m\u001b[0m\u001b[0m\n\u001b[0m",
      "\u001b[1;31mKeyError\u001b[0m: 'Nama'"
     ]
    }
   ],
   "source": [
    "print(data_orang['Nama'])"
   ]
  },
  {
   "cell_type": "code",
   "execution_count": 39,
   "id": "71102402",
   "metadata": {},
   "outputs": [
    {
     "name": "stdout",
     "output_type": "stream",
     "text": [
      "Ketut Dogler\n"
     ]
    }
   ],
   "source": [
    "print(data_orang.get('nama'))"
   ]
  },
  {
   "cell_type": "code",
   "execution_count": 40,
   "id": "9c20cf4e",
   "metadata": {},
   "outputs": [
    {
     "name": "stdout",
     "output_type": "stream",
     "text": [
      "None\n"
     ]
    }
   ],
   "source": [
    "print(data_orang.get('Nama'))"
   ]
  },
  {
   "cell_type": "code",
   "execution_count": 41,
   "id": "29f1d109",
   "metadata": {},
   "outputs": [
    {
     "name": "stdout",
     "output_type": "stream",
     "text": [
      "None\n"
     ]
    }
   ],
   "source": [
    "print(data_orang.get('tanggal_lahir'))"
   ]
  },
  {
   "cell_type": "code",
   "execution_count": 42,
   "id": "326393b9",
   "metadata": {},
   "outputs": [
    {
     "name": "stdout",
     "output_type": "stream",
     "text": [
      "2-2-2010\n"
     ]
    }
   ],
   "source": [
    "print(data_orang.get('tanggal_lahir','2-2-2010'))"
   ]
  },
  {
   "cell_type": "code",
   "execution_count": 43,
   "id": "3736e681",
   "metadata": {},
   "outputs": [
    {
     "name": "stdout",
     "output_type": "stream",
     "text": [
      "{'nama': 'Ketut Dogler', 'umur': 12, 'apakah_singel': False}\n"
     ]
    }
   ],
   "source": [
    "print(data_orang)"
   ]
  },
  {
   "cell_type": "code",
   "execution_count": 44,
   "id": "73a27480",
   "metadata": {},
   "outputs": [
    {
     "ename": "KeyError",
     "evalue": "'tanggal_lahir'",
     "output_type": "error",
     "traceback": [
      "\u001b[1;31m---------------------------------------------------------------------------\u001b[0m",
      "\u001b[1;31mKeyError\u001b[0m                                  Traceback (most recent call last)",
      "\u001b[1;32m~\\AppData\\Local\\Temp\\ipykernel_3236\\3463751171.py\u001b[0m in \u001b[0;36m<module>\u001b[1;34m\u001b[0m\n\u001b[1;32m----> 1\u001b[1;33m \u001b[0mprint\u001b[0m\u001b[1;33m(\u001b[0m\u001b[0mdata_orang\u001b[0m\u001b[1;33m[\u001b[0m\u001b[1;34m\"tanggal_lahir\"\u001b[0m\u001b[1;33m]\u001b[0m\u001b[1;33m)\u001b[0m\u001b[1;33m\u001b[0m\u001b[1;33m\u001b[0m\u001b[0m\n\u001b[0m",
      "\u001b[1;31mKeyError\u001b[0m: 'tanggal_lahir'"
     ]
    }
   ],
   "source": [
    "print(data_orang[\"tanggal_lahir\"])"
   ]
  },
  {
   "cell_type": "code",
   "execution_count": 45,
   "id": "a796bc2e",
   "metadata": {},
   "outputs": [],
   "source": [
    "data_orang['Hp'] = '08123456789'"
   ]
  },
  {
   "cell_type": "code",
   "execution_count": 46,
   "id": "54d1721c",
   "metadata": {},
   "outputs": [
    {
     "ename": "KeyError",
     "evalue": "'HP'",
     "output_type": "error",
     "traceback": [
      "\u001b[1;31m---------------------------------------------------------------------------\u001b[0m",
      "\u001b[1;31mKeyError\u001b[0m                                  Traceback (most recent call last)",
      "\u001b[1;32m~\\AppData\\Local\\Temp\\ipykernel_3236\\1598746497.py\u001b[0m in \u001b[0;36m<module>\u001b[1;34m\u001b[0m\n\u001b[1;32m----> 1\u001b[1;33m \u001b[0mprint\u001b[0m\u001b[1;33m(\u001b[0m\u001b[0mdata_orang\u001b[0m\u001b[1;33m[\u001b[0m\u001b[1;34m\"HP\"\u001b[0m\u001b[1;33m]\u001b[0m\u001b[1;33m)\u001b[0m\u001b[1;33m\u001b[0m\u001b[1;33m\u001b[0m\u001b[0m\n\u001b[0m",
      "\u001b[1;31mKeyError\u001b[0m: 'HP'"
     ]
    }
   ],
   "source": [
    "print(data_orang[\"Hp\"])"
   ]
  },
  {
   "cell_type": "code",
   "execution_count": 47,
   "id": "464d9c64",
   "metadata": {},
   "outputs": [
    {
     "name": "stdout",
     "output_type": "stream",
     "text": [
      "{'nama': 'Ketut Dogler', 'umur': 12, 'apakah_singel': False, 'Hp': '08123456789'}\n"
     ]
    }
   ],
   "source": [
    "print(data_orang)"
   ]
  },
  {
   "cell_type": "markdown",
   "id": "8edf6ae1",
   "metadata": {},
   "source": [
    "*Percobaan materi Dictionaries"
   ]
  },
  {
   "cell_type": "code",
   "execution_count": 1,
   "id": "96064204",
   "metadata": {},
   "outputs": [],
   "source": [
    "data_tya = {\n",
    "    \"Nama\" : \"Ni Putu Karistya Paicha Maesi\",\n",
    "    \"Umur\" : 19,\n",
    "    \"Apakah_singel\" : True\n",
    "}"
   ]
  },
  {
   "cell_type": "code",
   "execution_count": 2,
   "id": "309b7700",
   "metadata": {},
   "outputs": [
    {
     "name": "stdout",
     "output_type": "stream",
     "text": [
      "Ni Putu Karistya Paicha Maesi\n"
     ]
    }
   ],
   "source": [
    "print(data_tya['Nama'])"
   ]
  },
  {
   "cell_type": "code",
   "execution_count": 3,
   "id": "bdbe4e4a",
   "metadata": {},
   "outputs": [
    {
     "ename": "KeyError",
     "evalue": "'nama'",
     "output_type": "error",
     "traceback": [
      "\u001b[1;31m---------------------------------------------------------------------------\u001b[0m",
      "\u001b[1;31mKeyError\u001b[0m                                  Traceback (most recent call last)",
      "\u001b[1;32m~\\AppData\\Local\\Temp\\ipykernel_11064\\329974800.py\u001b[0m in \u001b[0;36m<module>\u001b[1;34m\u001b[0m\n\u001b[1;32m----> 1\u001b[1;33m \u001b[0mprint\u001b[0m\u001b[1;33m(\u001b[0m\u001b[0mdata_tya\u001b[0m\u001b[1;33m[\u001b[0m\u001b[1;34m'nama'\u001b[0m\u001b[1;33m]\u001b[0m\u001b[1;33m)\u001b[0m\u001b[1;33m\u001b[0m\u001b[1;33m\u001b[0m\u001b[0m\n\u001b[0m",
      "\u001b[1;31mKeyError\u001b[0m: 'nama'"
     ]
    }
   ],
   "source": [
    "print(data_tya['nama'])"
   ]
  },
  {
   "cell_type": "code",
   "execution_count": 4,
   "id": "7c7b994e",
   "metadata": {},
   "outputs": [
    {
     "name": "stdout",
     "output_type": "stream",
     "text": [
      "Ni Putu Karistya Paicha Maesi\n"
     ]
    }
   ],
   "source": [
    "print(data_tya.get('Nama'))"
   ]
  },
  {
   "cell_type": "code",
   "execution_count": 5,
   "id": "5baba516",
   "metadata": {},
   "outputs": [
    {
     "name": "stdout",
     "output_type": "stream",
     "text": [
      "None\n"
     ]
    }
   ],
   "source": [
    "print(data_tya.get('nama'))"
   ]
  },
  {
   "cell_type": "code",
   "execution_count": 6,
   "id": "92c2f83c",
   "metadata": {},
   "outputs": [
    {
     "name": "stdout",
     "output_type": "stream",
     "text": [
      "None\n"
     ]
    }
   ],
   "source": [
    "print(data_tya.get('tanggal_lahir'))"
   ]
  },
  {
   "cell_type": "code",
   "execution_count": 7,
   "id": "71f3d242",
   "metadata": {},
   "outputs": [
    {
     "name": "stdout",
     "output_type": "stream",
     "text": [
      "13-08-2004\n"
     ]
    }
   ],
   "source": [
    "print(data_tya.get('tanggal_lahir', '13-08-2004'))"
   ]
  },
  {
   "cell_type": "code",
   "execution_count": 8,
   "id": "61155033",
   "metadata": {},
   "outputs": [
    {
     "name": "stdout",
     "output_type": "stream",
     "text": [
      "{'Nama': 'Ni Putu Karistya Paicha Maesi', 'Umur': 19, 'Apakah_singel': True}\n"
     ]
    }
   ],
   "source": [
    "print(data_tya)"
   ]
  },
  {
   "cell_type": "code",
   "execution_count": 9,
   "id": "6dd328c8",
   "metadata": {},
   "outputs": [
    {
     "ename": "KeyError",
     "evalue": "'tanggal_lahir'",
     "output_type": "error",
     "traceback": [
      "\u001b[1;31m---------------------------------------------------------------------------\u001b[0m",
      "\u001b[1;31mKeyError\u001b[0m                                  Traceback (most recent call last)",
      "\u001b[1;32m~\\AppData\\Local\\Temp\\ipykernel_11064\\4042902072.py\u001b[0m in \u001b[0;36m<module>\u001b[1;34m\u001b[0m\n\u001b[1;32m----> 1\u001b[1;33m \u001b[0mprint\u001b[0m\u001b[1;33m(\u001b[0m\u001b[0mdata_tya\u001b[0m\u001b[1;33m[\u001b[0m\u001b[1;34m\"tanggal_lahir\"\u001b[0m\u001b[1;33m]\u001b[0m\u001b[1;33m)\u001b[0m\u001b[1;33m\u001b[0m\u001b[1;33m\u001b[0m\u001b[0m\n\u001b[0m",
      "\u001b[1;31mKeyError\u001b[0m: 'tanggal_lahir'"
     ]
    }
   ],
   "source": [
    "print(data_tya[\"tanggal_lahir\"])"
   ]
  },
  {
   "cell_type": "code",
   "execution_count": 10,
   "id": "0d70d5fa",
   "metadata": {},
   "outputs": [],
   "source": [
    "data_tya['HP'] = 'ciee kepo'"
   ]
  },
  {
   "cell_type": "code",
   "execution_count": 11,
   "id": "6ce44c1f",
   "metadata": {},
   "outputs": [
    {
     "name": "stdout",
     "output_type": "stream",
     "text": [
      "ciee kepo\n"
     ]
    }
   ],
   "source": [
    "print(data_tya[\"HP\"])"
   ]
  },
  {
   "cell_type": "code",
   "execution_count": 12,
   "id": "8a1a479c",
   "metadata": {},
   "outputs": [
    {
     "name": "stdout",
     "output_type": "stream",
     "text": [
      "{'Nama': 'Ni Putu Karistya Paicha Maesi', 'Umur': 19, 'Apakah_singel': True, 'HP': 'ciee kepo'}\n"
     ]
    }
   ],
   "source": [
    "print(data_tya)"
   ]
  },
  {
   "cell_type": "markdown",
   "id": "54780ebc",
   "metadata": {},
   "source": [
    "# Materi Fungsi Dalam Python"
   ]
  },
  {
   "cell_type": "code",
   "execution_count": 13,
   "id": "585240db",
   "metadata": {},
   "outputs": [],
   "source": [
    "def full_nama(first_name,last_name):\n",
    "    print(f\"Nama lengkapnya adalah {first_name} {last_name}\")"
   ]
  },
  {
   "cell_type": "code",
   "execution_count": 14,
   "id": "b6423597",
   "metadata": {},
   "outputs": [
    {
     "name": "stdout",
     "output_type": "stream",
     "text": [
      "Nama depan anda adalah Ni Putu\n",
      "Nama belakang anda adalah Karistya Paicha maesi\n",
      "Nama lengkapnya adalah Ni Putu Karistya Paicha maesi\n"
     ]
    }
   ],
   "source": [
    "first_name = input(\"Nama depan anda adalah \")\n",
    "last_name = input(\"Nama belakang anda adalah \")\n",
    "full_nama(first_name,last_name)"
   ]
  },
  {
   "cell_type": "markdown",
   "id": "6d26320a",
   "metadata": {},
   "source": [
    "Tugas Fungsi pada Python"
   ]
  },
  {
   "cell_type": "code",
   "execution_count": 15,
   "id": "db1e7ba8",
   "metadata": {},
   "outputs": [],
   "source": [
    "def waktu_sampai(jarak,kecepatan):\n",
    "    waktu = jarak/kecepatan\n",
    "    print(waktu)"
   ]
  },
  {
   "cell_type": "code",
   "execution_count": 16,
   "id": "a8ed5fe6",
   "metadata": {},
   "outputs": [],
   "source": [
    "def waktu_tempuh(jarak,kecepatan):\n",
    "    waktu = jarak/kecepatan\n",
    "    return waktu"
   ]
  },
  {
   "cell_type": "code",
   "execution_count": 17,
   "id": "0328f511",
   "metadata": {},
   "outputs": [
    {
     "name": "stdout",
     "output_type": "stream",
     "text": [
      "1.3333333333333333\n"
     ]
    }
   ],
   "source": [
    "waktu_sampai(80,60)"
   ]
  },
  {
   "cell_type": "code",
   "execution_count": 18,
   "id": "5df76596",
   "metadata": {},
   "outputs": [
    {
     "data": {
      "text/plain": [
       "1.3333333333333333"
      ]
     },
     "execution_count": 18,
     "metadata": {},
     "output_type": "execute_result"
    }
   ],
   "source": [
    "waktu_tempuh(80,60)"
   ]
  },
  {
   "cell_type": "code",
   "execution_count": 13,
   "id": "a1afeafd",
   "metadata": {},
   "outputs": [
    {
     "name": "stdout",
     "output_type": "stream",
     "text": [
      "1.3333333333333333\n",
      "None\n"
     ]
    }
   ],
   "source": [
    "a = waktu_sampai(80,60)\n",
    "print(a)"
   ]
  },
  {
   "cell_type": "code",
   "execution_count": 20,
   "id": "915897dc",
   "metadata": {},
   "outputs": [
    {
     "name": "stdout",
     "output_type": "stream",
     "text": [
      "1.3333333333333333\n"
     ]
    }
   ],
   "source": [
    "b = waktu_tempuh(80,60)\n",
    "print(b)"
   ]
  },
  {
   "cell_type": "code",
   "execution_count": 1,
   "id": "e47cddc6",
   "metadata": {},
   "outputs": [],
   "source": [
    "import numpy as np"
   ]
  },
  {
   "cell_type": "code",
   "execution_count": 2,
   "id": "cc6eb4a9",
   "metadata": {},
   "outputs": [],
   "source": [
    "def luas_segitiga(alas,tinggi):\n",
    "    luas = (1/2)*alas*tinggi\n",
    "    return luas\n",
    "def luas_lingkaran(jari_jari):\n",
    "    luas = np.pi*(jari_jari**2)\n",
    "    return luas\n",
    "def luas_persegi(sisi):\n",
    "    luas = sisi**2\n",
    "    return luas\n",
    "def luas_persegi_panjang(panjang,lebar):\n",
    "    luas = panjang*lebar\n",
    "    return luas"
   ]
  },
  {
   "cell_type": "code",
   "execution_count": 3,
   "id": "7b5c37af",
   "metadata": {},
   "outputs": [
    {
     "name": "stdout",
     "output_type": "stream",
     "text": [
      "Tulis jenis bidangnya LINGKARAN\n",
      "Berapakah panjang jari-jarinya? 7\n",
      "Luas LINGKARAN adalah 153.93804002589985\n"
     ]
    }
   ],
   "source": [
    "jenis_bidang = input(\"Tulis jenis bidangnya \")\n",
    "if jenis_bidang.upper() == 'SEGITIGA' :\n",
    "    alas = float(input('Berapakah panjang alasnya? '))\n",
    "    tinggi = float(input('Berapakah tingginya? '))\n",
    "    luas = luas_segitiga(alas,tinggi)\n",
    "    print(f\"Luas {jenis_bidang} adalah {luas}\")\n",
    "elif jenis_bidang.upper() == 'LINGKARAN':\n",
    "    jari_jari = float(input('Berapakah panjang jari-jarinya? '))\n",
    "    luas = luas_lingkaran(jari_jari)\n",
    "    print(f\"Luas {jenis_bidang} adalah {luas}\")\n",
    "elif (jenis_bidang.upper() == 'PERSEGI') or (jenis_bidang.upper() =='BUJUR SANGKAR'):\n",
    "    sisi = float(input('Berapakah sisinya? '))\n",
    "    luas = luas_persegi(sisi)\n",
    "    print(f\"Luas {jenis_bidang} adalah {luas}\")\n",
    "elif jenis_bidang.upper() == 'PERSEGI PANJANG':\n",
    "    panjang = float(input('Berapakah panjangnya? '))\n",
    "    lebar = float(input('Berapakah lebarnya? '))\n",
    "    luas = luas_persegi_panjang(panjang,lebar)\n",
    "    print(f\"Luas {jenis_bidang} adalah {luas}\")\n",
    "else:\n",
    "    print(f\"Maaf bidang {jenis_bidang} yang anda masukkan tidak ada.\")\n",
    "    print(\"Pilihan cuma SEGITIGA, LINGKARAN, PERSEGI, PERSEGI PANJANG.\")\n",
    "    print('Terimakasih')\n"
   ]
  },
  {
   "cell_type": "markdown",
   "id": "3dd44b1c",
   "metadata": {},
   "source": [
    "Percobaan Materi Tugas Fungsi pada Python"
   ]
  },
  {
   "cell_type": "code",
   "execution_count": 3,
   "id": "d3f66d68",
   "metadata": {},
   "outputs": [],
   "source": [
    "def full_nama(first_name,last_name):\n",
    "    print(f\"Nama lengkapnya adalah {first_name} {last_name}\")\n",
    "def tempat_tanggal_lahir(tempat_lahir,tanggal_lahir):\n",
    "    print(f\"Lahir di {tempat_lahir} {tanggal_lahir}\")\n",
    "#mencoba mendefinisikan 2 hal yang berbeda"
   ]
  },
  {
   "cell_type": "code",
   "execution_count": 4,
   "id": "1b0a0e9b",
   "metadata": {},
   "outputs": [
    {
     "name": "stdout",
     "output_type": "stream",
     "text": [
      "Nama depan anda adalah putu\n",
      "Nama belakang anda adalah tya\n",
      "Nama lengkapnya adalah putu tya\n",
      "Tanggal lahir anda adalah 13 agustus\n",
      "Tempat lahir anda dimana denpasar\n",
      "Lahir di denpasar 13 agustus\n"
     ]
    }
   ],
   "source": [
    "first_name = input(\"Nama depan anda adalah \")\n",
    "last_name = input(\"Nama belakang anda adalah \")\n",
    "full_nama(first_name,last_name)\n",
    "tanggal_lahir = input(\"Tanggal lahir anda adalah \")\n",
    "tempat_lahir = input(\"Tempat lahir anda dimana \")\n",
    "tempat_tanggal_lahir(tempat_lahir,tanggal_lahir)"
   ]
  },
  {
   "cell_type": "code",
   "execution_count": 5,
   "id": "1a5e15e3",
   "metadata": {},
   "outputs": [],
   "source": [
    "def waktu_sampai(jarak,kecepatan):\n",
    "    waktu = jarak/kecepatan\n",
    "    print(waktu)"
   ]
  },
  {
   "cell_type": "code",
   "execution_count": 9,
   "id": "f9b5213f",
   "metadata": {},
   "outputs": [],
   "source": [
    "def waktu_tempuh(jarak,kecepatan):\n",
    "    waktu = jarak/kecepatan\n",
    "    return waktu"
   ]
  },
  {
   "cell_type": "code",
   "execution_count": 10,
   "id": "e139a1b5",
   "metadata": {},
   "outputs": [
    {
     "name": "stdout",
     "output_type": "stream",
     "text": [
      "2.0\n"
     ]
    }
   ],
   "source": [
    "waktu_sampai(100,50)"
   ]
  },
  {
   "cell_type": "code",
   "execution_count": 11,
   "id": "2fd35d38",
   "metadata": {},
   "outputs": [
    {
     "data": {
      "text/plain": [
       "2.0"
      ]
     },
     "execution_count": 11,
     "metadata": {},
     "output_type": "execute_result"
    }
   ],
   "source": [
    "waktu_tempuh(100,50)"
   ]
  },
  {
   "cell_type": "code",
   "execution_count": 12,
   "id": "46d04bdf",
   "metadata": {},
   "outputs": [
    {
     "name": "stdout",
     "output_type": "stream",
     "text": [
      "2.0\n",
      "None\n"
     ]
    }
   ],
   "source": [
    "a = waktu_sampai(100,50)\n",
    "print(a)"
   ]
  },
  {
   "cell_type": "code",
   "execution_count": 14,
   "id": "6d2307be",
   "metadata": {},
   "outputs": [
    {
     "name": "stdout",
     "output_type": "stream",
     "text": [
      "2.0\n"
     ]
    }
   ],
   "source": [
    "b = waktu_tempuh(100,50)\n",
    "print(b)"
   ]
  },
  {
   "cell_type": "code",
   "execution_count": 4,
   "id": "fac3f6ba",
   "metadata": {},
   "outputs": [],
   "source": [
    "import numpy as np"
   ]
  },
  {
   "cell_type": "code",
   "execution_count": 5,
   "id": "9edc62dc",
   "metadata": {},
   "outputs": [],
   "source": [
    "def luas_segitiga(alas,tinggi):\n",
    "    luas = (1/2)*alas*tinggi\n",
    "    return luas\n",
    "def luas_lingkaran(jari_jari):\n",
    "    luas = np.pi*(jari_jari**2)\n",
    "    return luas\n",
    "def luas_persegi(sisi):\n",
    "    luas = sisi**2\n",
    "    return luas\n",
    "def luas_persegi_panjang(panjang,lebar):\n",
    "    luas = panjang*lebar\n",
    "    return luas\n",
    "def luas_layang_layang(digonal1,diagonal2):\n",
    "    luas = (1/2)*diagonal1*diagonal2\n",
    "    return luas\n",
    "def luas_jajar_genjang(alas,tinggi):\n",
    "    luas = alas*tinggi\n",
    "    return luas \n",
    "#mencoba menambahkan rumus"
   ]
  },
  {
   "cell_type": "code",
   "execution_count": 9,
   "id": "54bd3c0b",
   "metadata": {},
   "outputs": [
    {
     "name": "stdout",
     "output_type": "stream",
     "text": [
      "Tulis jenis bidangnya LAYANG LAYANG\n",
      "Berapakah panjang diagonal1? 10\n",
      "Berapakah panjang diagonal2? 14\n",
      "Luas LAYANG LAYANG adalah 70.0\n"
     ]
    }
   ],
   "source": [
    "jenis_bidang = input(\"Tulis jenis bidangnya \")\n",
    "if jenis_bidang.upper() == 'SEGITIGA' :\n",
    "    alas = float(input('Berapakah panjang alasnya? '))\n",
    "    tinggi = float(input('Berapakah tingginya? '))\n",
    "    luas = luas_segitiga(alas,tinggi)\n",
    "    print(f\"Luas {jenis_bidang} adalah {luas}\")\n",
    "elif jenis_bidang.upper() == 'LINGKARAN':\n",
    "    jari_jari = float(input('Berapakah panjang jari-jarinya? '))\n",
    "    luas = luas_lingkaran(jari_jari)\n",
    "    print(f\"Luas {jenis_bidang} adalah {luas}\")\n",
    "elif (jenis_bidang.upper() == 'PERSEGI') or (jenis_bidang.upper() =='BUJUR SANGKAR'):\n",
    "    sisi = float(input('Berapakah sisinya? '))\n",
    "    luas = luas_persegi(sisi)\n",
    "    print(f\"Luas {jenis_bidang} adalah {luas}\")\n",
    "elif jenis_bidang.upper() == 'PERSEGI PANJANG':\n",
    "    panjang = float(input('Berapakah panjangnya? '))\n",
    "    lebar = float(input('Berapakah lebarnya? '))\n",
    "    luas = luas_persegi_panjang(panjang,lebar)\n",
    "    print(f\"Luas {jenis_bidang} adalah {luas}\")\n",
    "elif jenis_bidang.upper() == 'LAYANG LAYANG':\n",
    "    diagonal1 = float(input('Berapakah panjang diagonal1? '))\n",
    "    diagonal2 = float(input('Berapakah panjang diagonal2? '))\n",
    "    luas = luas_layang_layang(diagonal1,diagonal2)\n",
    "    print(f\"Luas {jenis_bidang} adalah {luas}\")\n",
    "elif jenis_bidang.upper() == 'JAJAR GENJANG':\n",
    "    alas = float(input('Berapakah alasnya? '))\n",
    "    tinggi = float(input('Berapakah tingginya? '))\n",
    "    luas = luas_jajar_genjang(alas,tinggi)\n",
    "    print(f\"Luas {jenis_bidang} adalah {luas}\")\n",
    "else:\n",
    "    print(f\"Maaf bidang {jenis_bidang} yang anda masukkan tidak ada.\")\n",
    "    print(\"Pilihan cuma SEGITIGA, LINGKARAN, PERSEGI, PERSEGI PANJANG, LAYANG LAYANG,JAJAR GENJANG.\")\n",
    "    print('Terimakasih')"
   ]
  },
  {
   "cell_type": "markdown",
   "id": "748df625",
   "metadata": {},
   "source": [
    "# Materi Numpy"
   ]
  },
  {
   "cell_type": "code",
   "execution_count": 10,
   "id": "b4d76500",
   "metadata": {},
   "outputs": [],
   "source": [
    "import pandas as pd"
   ]
  },
  {
   "cell_type": "markdown",
   "id": "b0a60b7f",
   "metadata": {},
   "source": [
    "# Perintah Dasar pada Numpy"
   ]
  },
  {
   "cell_type": "code",
   "execution_count": 11,
   "id": "dc9a4f8d",
   "metadata": {},
   "outputs": [
    {
     "name": "stdout",
     "output_type": "stream",
     "text": [
      "[0 1 2 3 4]\n"
     ]
    }
   ],
   "source": [
    "a = np.array([0,1,2,3,4])\n",
    "print(a)"
   ]
  },
  {
   "cell_type": "code",
   "execution_count": 12,
   "id": "786f96aa",
   "metadata": {},
   "outputs": [
    {
     "name": "stdout",
     "output_type": "stream",
     "text": [
      "[[5 6 7 8]\n",
      " [9 8 7 6]]\n"
     ]
    }
   ],
   "source": [
    "b = np.array([[5,6,7,8],[9,8,7,6]])\n",
    "print(b)"
   ]
  },
  {
   "cell_type": "code",
   "execution_count": 13,
   "id": "946f09e3",
   "metadata": {},
   "outputs": [
    {
     "name": "stdout",
     "output_type": "stream",
     "text": [
      "[[[0 1 2 3]\n",
      "  [4 5 6 7]]\n",
      "\n",
      " [[8 9 8 7]\n",
      "  [6 5 4 3]]\n",
      "\n",
      " [[1 2 3 4]\n",
      "  [5 6 7 8]]]\n"
     ]
    }
   ],
   "source": [
    "c = np.array([[[0,1,2,3],[4,5,6,7]],[[8,9,8,7],[6,5,4,3]],[[1,2,3,4],[5,6,7,8]]])\n",
    "print(c)"
   ]
  },
  {
   "cell_type": "code",
   "execution_count": 14,
   "id": "7aef18a1",
   "metadata": {},
   "outputs": [
    {
     "data": {
      "text/plain": [
       "1"
      ]
     },
     "execution_count": 14,
     "metadata": {},
     "output_type": "execute_result"
    }
   ],
   "source": [
    "a.ndim\n",
    "#disini ditanya berapakah ada kolom pada a"
   ]
  },
  {
   "cell_type": "code",
   "execution_count": 15,
   "id": "9eede1ec",
   "metadata": {},
   "outputs": [
    {
     "data": {
      "text/plain": [
       "2"
      ]
     },
     "execution_count": 15,
     "metadata": {},
     "output_type": "execute_result"
    }
   ],
   "source": [
    "b.ndim\n",
    "#disini juga di tanya berapa ada kolom pada b"
   ]
  },
  {
   "cell_type": "code",
   "execution_count": 16,
   "id": "208cfc51",
   "metadata": {},
   "outputs": [
    {
     "data": {
      "text/plain": [
       "3"
      ]
     },
     "execution_count": 16,
     "metadata": {},
     "output_type": "execute_result"
    }
   ],
   "source": [
    "c.ndim"
   ]
  },
  {
   "cell_type": "code",
   "execution_count": null,
   "id": "0ceb5947",
   "metadata": {},
   "outputs": [],
   "source": [
    "a.shape"
   ]
  },
  {
   "cell_type": "code",
   "execution_count": null,
   "id": "36a20986",
   "metadata": {},
   "outputs": [],
   "source": [
    "b.shape"
   ]
  },
  {
   "cell_type": "code",
   "execution_count": null,
   "id": "7ab7e7d1",
   "metadata": {},
   "outputs": [],
   "source": [
    "c.shape"
   ]
  },
  {
   "cell_type": "markdown",
   "id": "464c73d5",
   "metadata": {},
   "source": [
    "Percobaan Perintah Dasar pada Numpy"
   ]
  },
  {
   "cell_type": "code",
   "execution_count": null,
   "id": "bb9699be",
   "metadata": {},
   "outputs": [],
   "source": [
    "a = np.array([10,11,12,13])\n",
    "print(a)"
   ]
  },
  {
   "cell_type": "code",
   "execution_count": null,
   "id": "61f9c015",
   "metadata": {},
   "outputs": [],
   "source": [
    "b = np.array([[14,15,16,17],[13,15,17,19]])\n",
    "print(b)"
   ]
  },
  {
   "cell_type": "code",
   "execution_count": null,
   "id": "ba6a1b7b",
   "metadata": {},
   "outputs": [],
   "source": [
    "c = np.array([[[10,11,12,13],[14,15,16,17]],[[13,15,17,19],[16,15,14,13]],[[11,12,13,14],[15,16,17,18]]])\n",
    "print(c)"
   ]
  },
  {
   "cell_type": "code",
   "execution_count": null,
   "id": "cdb1788c",
   "metadata": {},
   "outputs": [],
   "source": [
    "a.ndim"
   ]
  },
  {
   "cell_type": "code",
   "execution_count": null,
   "id": "23f192e1",
   "metadata": {},
   "outputs": [],
   "source": [
    "b.ndim"
   ]
  },
  {
   "cell_type": "code",
   "execution_count": null,
   "id": "a3656d02",
   "metadata": {},
   "outputs": [],
   "source": [
    "c.ndim"
   ]
  },
  {
   "cell_type": "code",
   "execution_count": null,
   "id": "59377d48",
   "metadata": {},
   "outputs": [],
   "source": [
    "a.shape"
   ]
  },
  {
   "cell_type": "code",
   "execution_count": null,
   "id": "5e761475",
   "metadata": {},
   "outputs": [],
   "source": [
    "b.shape"
   ]
  },
  {
   "cell_type": "code",
   "execution_count": null,
   "id": "02574764",
   "metadata": {},
   "outputs": [],
   "source": [
    "c.shape"
   ]
  },
  {
   "cell_type": "markdown",
   "id": "f89f3127",
   "metadata": {},
   "source": [
    "# Memanggil Anggota,Kolom dan Baris dengan Numpy"
   ]
  },
  {
   "cell_type": "code",
   "execution_count": null,
   "id": "6c98d2c1",
   "metadata": {},
   "outputs": [],
   "source": [
    "d = np.array([[1,2,3,4],[5,6,7,8],[9,10,11,12]])\n",
    "print(d)"
   ]
  },
  {
   "cell_type": "code",
   "execution_count": null,
   "id": "91e97c46",
   "metadata": {},
   "outputs": [],
   "source": [
    "d[0,3]"
   ]
  },
  {
   "cell_type": "code",
   "execution_count": null,
   "id": "22b4f4a3",
   "metadata": {},
   "outputs": [],
   "source": [
    "d[1,:]"
   ]
  },
  {
   "cell_type": "code",
   "execution_count": null,
   "id": "ee6c6325",
   "metadata": {},
   "outputs": [],
   "source": [
    "d[:,2]"
   ]
  },
  {
   "cell_type": "code",
   "execution_count": null,
   "id": "7c69d652",
   "metadata": {},
   "outputs": [],
   "source": [
    "d[0,1:3]"
   ]
  },
  {
   "cell_type": "code",
   "execution_count": null,
   "id": "1c3b1d3d",
   "metadata": {},
   "outputs": [],
   "source": [
    "d[0,0:3:2]"
   ]
  },
  {
   "cell_type": "code",
   "execution_count": null,
   "id": "92c571b2",
   "metadata": {},
   "outputs": [],
   "source": [
    "d[0,0] = 100\n",
    "print(d)"
   ]
  },
  {
   "cell_type": "markdown",
   "id": "77777dea",
   "metadata": {},
   "source": [
    "Percobaan saat Memanggil Anggota,Kolom dan baris dengan Numpy"
   ]
  },
  {
   "cell_type": "code",
   "execution_count": null,
   "id": "7b779167",
   "metadata": {},
   "outputs": [],
   "source": [
    "d = np.array([[11,12,13,14],[15,16,17,18],[19,20,21,22]])\n",
    "print(d)"
   ]
  },
  {
   "cell_type": "code",
   "execution_count": null,
   "id": "dbe87cc4",
   "metadata": {},
   "outputs": [],
   "source": [
    "d[1,2]\n",
    "#dimulai dari hitungan kolom ke 1 dicari hitungan anggota ke 2"
   ]
  },
  {
   "cell_type": "code",
   "execution_count": null,
   "id": "67140a56",
   "metadata": {},
   "outputs": [],
   "source": [
    "d[2,:]\n",
    "#dimulai dari hitungan kolom ke 2"
   ]
  },
  {
   "cell_type": "code",
   "execution_count": null,
   "id": "bbda4c9a",
   "metadata": {},
   "outputs": [],
   "source": [
    "d[:,3]\n",
    "#perintah ini memerintahkan untuk mengambil hitungan anggota ke 3 pada masing-masing kolom"
   ]
  },
  {
   "cell_type": "code",
   "execution_count": null,
   "id": "a329ffc8",
   "metadata": {},
   "outputs": [],
   "source": [
    "d[1,1:3]\n",
    "#perintah pada kolom ke 1 lalu di ambil hitungan pada kolom tersebut pada anggota ke 1 dengan batasan ke 3"
   ]
  },
  {
   "cell_type": "code",
   "execution_count": null,
   "id": "6c2788ce",
   "metadata": {},
   "outputs": [],
   "source": [
    "d[1,1:3:2]"
   ]
  },
  {
   "cell_type": "code",
   "execution_count": null,
   "id": "0754e083",
   "metadata": {},
   "outputs": [],
   "source": [
    "d[1,1] = 200\n",
    "print(d)\n",
    "#diperintahkan untuk menambah angka 200 pada kolom hitungan ke 1 dan anggota ke 1"
   ]
  },
  {
   "cell_type": "markdown",
   "id": "00efcc81",
   "metadata": {},
   "source": [
    "# Matrix pada Numpy"
   ]
  },
  {
   "cell_type": "code",
   "execution_count": null,
   "id": "4de49d20",
   "metadata": {},
   "outputs": [],
   "source": [
    "np.ones((2,3))"
   ]
  },
  {
   "cell_type": "code",
   "execution_count": null,
   "id": "e290c088",
   "metadata": {},
   "outputs": [],
   "source": [
    "np.zeros((3,2))"
   ]
  },
  {
   "cell_type": "code",
   "execution_count": null,
   "id": "c9ca4a13",
   "metadata": {},
   "outputs": [],
   "source": [
    "np.identity(4)"
   ]
  },
  {
   "cell_type": "code",
   "execution_count": null,
   "id": "df701f31",
   "metadata": {},
   "outputs": [],
   "source": [
    "np.ones((2,3,4))"
   ]
  },
  {
   "cell_type": "code",
   "execution_count": null,
   "id": "948fe343",
   "metadata": {},
   "outputs": [],
   "source": [
    "np.full((3,2),9)"
   ]
  },
  {
   "cell_type": "code",
   "execution_count": null,
   "id": "29b7b72b",
   "metadata": {},
   "outputs": [],
   "source": [
    "np.random.rand(4,3)"
   ]
  },
  {
   "cell_type": "code",
   "execution_count": null,
   "id": "7c7eb174",
   "metadata": {},
   "outputs": [],
   "source": [
    "np.random.randint(1,10,size=(3,4))"
   ]
  },
  {
   "cell_type": "code",
   "execution_count": null,
   "id": "855531dd",
   "metadata": {},
   "outputs": [],
   "source": [
    "a = np.zeros((10,10))\n",
    "print(a)"
   ]
  },
  {
   "cell_type": "code",
   "execution_count": null,
   "id": "12e1bca3",
   "metadata": {},
   "outputs": [],
   "source": [
    "b = np.identity(10)\n",
    "print(b)"
   ]
  },
  {
   "cell_type": "code",
   "execution_count": null,
   "id": "b05a4c62",
   "metadata": {},
   "outputs": [],
   "source": [
    "c = 9*b\n",
    "print(c)"
   ]
  },
  {
   "cell_type": "code",
   "execution_count": null,
   "id": "37917843",
   "metadata": {},
   "outputs": [],
   "source": [
    "d = np.ones((8,8))\n",
    "e = np.identity(8)*8\n",
    "f = d+e\n",
    "print(f)"
   ]
  },
  {
   "cell_type": "code",
   "execution_count": null,
   "id": "26950efb",
   "metadata": {},
   "outputs": [],
   "source": [
    "c[1:-1,1:-1] = f\n",
    "print(c)"
   ]
  },
  {
   "cell_type": "code",
   "execution_count": null,
   "id": "c053477d",
   "metadata": {},
   "outputs": [],
   "source": [
    "g = np.identity(6)*9\n",
    "c[2:-2,2:-2] = g\n",
    "print(c)"
   ]
  },
  {
   "cell_type": "code",
   "execution_count": null,
   "id": "cdf7ab9a",
   "metadata": {},
   "outputs": [],
   "source": [
    "h = np.ones((4,4))*2\n",
    "i = np.identity(4) * 7\n",
    "j = h + i\n",
    "print(j)"
   ]
  },
  {
   "cell_type": "code",
   "execution_count": null,
   "id": "55a038bd",
   "metadata": {},
   "outputs": [],
   "source": [
    "c[3:-3,3;-3] = j\n",
    "print(c)"
   ]
  },
  {
   "cell_type": "code",
   "execution_count": null,
   "id": "bf5b745b",
   "metadata": {},
   "outputs": [],
   "source": [
    "k = np.identity(2)*9\n",
    "c[4:-4,4:-4] = k\n",
    "print(c)"
   ]
  },
  {
   "cell_type": "markdown",
   "id": "7defb61c",
   "metadata": {},
   "source": [
    "# Copy pada Numpy"
   ]
  },
  {
   "cell_type": "code",
   "execution_count": null,
   "id": "5f3422fb",
   "metadata": {},
   "outputs": [],
   "source": [
    "a = np.array([1,2,3,4,5])\n",
    "print(a)"
   ]
  },
  {
   "cell_type": "code",
   "execution_count": null,
   "id": "38612724",
   "metadata": {},
   "outputs": [],
   "source": [
    "b = a\n",
    "print(b)"
   ]
  },
  {
   "cell_type": "code",
   "execution_count": null,
   "id": "26971f41",
   "metadata": {},
   "outputs": [],
   "source": [
    "b[0] = 10\n",
    "print(b)"
   ]
  },
  {
   "cell_type": "code",
   "execution_count": null,
   "id": "4b766561",
   "metadata": {},
   "outputs": [],
   "source": [
    "print(a)"
   ]
  },
  {
   "cell_type": "code",
   "execution_count": null,
   "id": "e6c2b714",
   "metadata": {},
   "outputs": [],
   "source": [
    "c = np.array([1,2,3,4,5])\n",
    "print(c)"
   ]
  },
  {
   "cell_type": "code",
   "execution_count": null,
   "id": "a975396d",
   "metadata": {},
   "outputs": [],
   "source": [
    "d = c.copy()\n",
    "print(d)"
   ]
  },
  {
   "cell_type": "code",
   "execution_count": null,
   "id": "a21a5dc2",
   "metadata": {},
   "outputs": [],
   "source": [
    "d[0] = 10\n",
    "print(d)"
   ]
  },
  {
   "cell_type": "code",
   "execution_count": null,
   "id": "f2ef2317",
   "metadata": {},
   "outputs": [],
   "source": [
    "print(c)"
   ]
  },
  {
   "cell_type": "markdown",
   "id": "d676987b",
   "metadata": {},
   "source": [
    "# Operasi Matematika pada Numpy"
   ]
  },
  {
   "cell_type": "code",
   "execution_count": null,
   "id": "00660cb9",
   "metadata": {},
   "outputs": [],
   "source": [
    "a+2"
   ]
  },
  {
   "cell_type": "code",
   "execution_count": null,
   "id": "c0218edb",
   "metadata": {},
   "outputs": [],
   "source": [
    "a-2"
   ]
  },
  {
   "cell_type": "code",
   "execution_count": null,
   "id": "bfcdf94f",
   "metadata": {},
   "outputs": [],
   "source": [
    "a*2"
   ]
  },
  {
   "cell_type": "code",
   "execution_count": null,
   "id": "b0eca538",
   "metadata": {},
   "outputs": [],
   "source": [
    "a/2"
   ]
  },
  {
   "cell_type": "code",
   "execution_count": null,
   "id": "d0968548",
   "metadata": {},
   "outputs": [],
   "source": [
    "a**2"
   ]
  },
  {
   "cell_type": "code",
   "execution_count": null,
   "id": "a1a0da64",
   "metadata": {},
   "outputs": [],
   "source": [
    "b = np.array([6,7,8,9,10])\n",
    "print(b)"
   ]
  },
  {
   "cell_type": "code",
   "execution_count": null,
   "id": "9fd3a815",
   "metadata": {},
   "outputs": [],
   "source": [
    "b = np.array([6,7,8,9,10])\n",
    "print(b)"
   ]
  },
  {
   "cell_type": "code",
   "execution_count": null,
   "id": "c072f0c1",
   "metadata": {},
   "outputs": [],
   "source": [
    "a+b"
   ]
  },
  {
   "cell_type": "code",
   "execution_count": null,
   "id": "ced3133a",
   "metadata": {},
   "outputs": [],
   "source": [
    "a-b"
   ]
  },
  {
   "cell_type": "code",
   "execution_count": null,
   "id": "39d00a5f",
   "metadata": {},
   "outputs": [],
   "source": [
    "a*b"
   ]
  },
  {
   "cell_type": "code",
   "execution_count": null,
   "id": "6afa9a09",
   "metadata": {},
   "outputs": [],
   "source": [
    "a/b"
   ]
  },
  {
   "cell_type": "code",
   "execution_count": null,
   "id": "fa0382a4",
   "metadata": {},
   "outputs": [],
   "source": [
    "b**a"
   ]
  },
  {
   "cell_type": "code",
   "execution_count": null,
   "id": "e9f0b702",
   "metadata": {},
   "outputs": [],
   "source": [
    "np.cos(a)"
   ]
  },
  {
   "cell_type": "code",
   "execution_count": null,
   "id": "b123caba",
   "metadata": {},
   "outputs": [],
   "source": [
    "np.cos(a)"
   ]
  },
  {
   "cell_type": "code",
   "execution_count": null,
   "id": "3e3f8750",
   "metadata": {},
   "outputs": [],
   "source": [
    "np.tan(a)"
   ]
  },
  {
   "cell_type": "code",
   "execution_count": null,
   "id": "cd3e8de3",
   "metadata": {},
   "outputs": [],
   "source": [
    "np.sinh(a)"
   ]
  },
  {
   "cell_type": "code",
   "execution_count": null,
   "id": "4fbdea85",
   "metadata": {},
   "outputs": [],
   "source": [
    "np.cosh(a)"
   ]
  },
  {
   "cell_type": "code",
   "execution_count": null,
   "id": "ba299fca",
   "metadata": {},
   "outputs": [],
   "source": [
    "np.tanh(a)"
   ]
  },
  {
   "cell_type": "code",
   "execution_count": null,
   "id": "1992daa9",
   "metadata": {},
   "outputs": [],
   "source": [
    "np.sqrt(a)"
   ]
  },
  {
   "cell_type": "markdown",
   "id": "9d557e6b",
   "metadata": {},
   "source": [
    "# Perkalian Matrik pada Numpy"
   ]
  },
  {
   "cell_type": "code",
   "execution_count": null,
   "id": "f2b75712",
   "metadata": {},
   "outputs": [],
   "source": [
    "a = np.array([[1,2,3,4],[5,6,7,8]])\n",
    "print(a)"
   ]
  },
  {
   "cell_type": "code",
   "execution_count": null,
   "id": "8ecd5f10",
   "metadata": {},
   "outputs": [],
   "source": [
    "b = np.array([[9,10,11,12],[13,1,4,15,16]])\n",
    "print(b)"
   ]
  },
  {
   "cell_type": "code",
   "execution_count": null,
   "id": "6c702b2a",
   "metadata": {},
   "outputs": [],
   "source": [
    "c = a*b\n",
    "print(c)"
   ]
  },
  {
   "cell_type": "code",
   "execution_count": null,
   "id": "1f23f8d8",
   "metadata": {},
   "outputs": [],
   "source": [
    "d = np.matmul(a,b)"
   ]
  },
  {
   "cell_type": "code",
   "execution_count": null,
   "id": "a767a421",
   "metadata": {},
   "outputs": [],
   "source": [
    "e = np.array([[9,10],[11,12],[13,14],[15,16]])\n",
    "print(e)"
   ]
  },
  {
   "cell_type": "code",
   "execution_count": null,
   "id": "5c4d8fc2",
   "metadata": {},
   "outputs": [],
   "source": [
    "f = np.matmul(a,e)\n",
    "print(f)"
   ]
  },
  {
   "cell_type": "code",
   "execution_count": null,
   "id": "0629fe9f",
   "metadata": {},
   "outputs": [],
   "source": [
    "g = a*e"
   ]
  },
  {
   "cell_type": "markdown",
   "id": "a8623cde",
   "metadata": {},
   "source": [
    "# Min,Max dan Sum pada Numpy"
   ]
  },
  {
   "cell_type": "code",
   "execution_count": null,
   "id": "c91d7d78",
   "metadata": {},
   "outputs": [],
   "source": [
    "a = np.array([[1,2,3,4,],[5,6,7,8],[9,10,11,12]])\n",
    "print(a)"
   ]
  },
  {
   "cell_type": "code",
   "execution_count": null,
   "id": "e32ac0ba",
   "metadata": {},
   "outputs": [],
   "source": [
    "b = np.min(a)\n",
    "print(b)"
   ]
  },
  {
   "cell_type": "code",
   "execution_count": null,
   "id": "613a0db3",
   "metadata": {},
   "outputs": [],
   "source": [
    "c = np.min(a,axis=0)\n",
    "print(c)"
   ]
  },
  {
   "cell_type": "code",
   "execution_count": null,
   "id": "6df45728",
   "metadata": {},
   "outputs": [],
   "source": [
    "d = np.min(a,axis=1)\n",
    "print(d)"
   ]
  },
  {
   "cell_type": "code",
   "execution_count": null,
   "id": "e414c8da",
   "metadata": {},
   "outputs": [],
   "source": [
    "e = np.max(a)\n",
    "print(e)"
   ]
  },
  {
   "cell_type": "code",
   "execution_count": null,
   "id": "ccd96286",
   "metadata": {},
   "outputs": [],
   "source": [
    "f = np.max(a,axis=0)\n",
    "print(f)"
   ]
  },
  {
   "cell_type": "code",
   "execution_count": null,
   "id": "17d7256d",
   "metadata": {},
   "outputs": [],
   "source": [
    "g = np.max(a,axis=1)\n",
    "print(g)"
   ]
  },
  {
   "cell_type": "code",
   "execution_count": null,
   "id": "30e39a9c",
   "metadata": {},
   "outputs": [],
   "source": [
    "h = np.sum(a)\n",
    "print(h)"
   ]
  },
  {
   "cell_type": "code",
   "execution_count": null,
   "id": "230490a7",
   "metadata": {},
   "outputs": [],
   "source": [
    "h = np.sum(a,axis=0)\n",
    "print(h)"
   ]
  },
  {
   "cell_type": "code",
   "execution_count": null,
   "id": "40ecdff5",
   "metadata": {},
   "outputs": [],
   "source": [
    "i = np.sum(a,axis=1)\n",
    "print(i)"
   ]
  }
 ],
 "metadata": {
  "kernelspec": {
   "display_name": "Python 3 (ipykernel)",
   "language": "python",
   "name": "python3"
  },
  "language_info": {
   "codemirror_mode": {
    "name": "ipython",
    "version": 3
   },
   "file_extension": ".py",
   "mimetype": "text/x-python",
   "name": "python",
   "nbconvert_exporter": "python",
   "pygments_lexer": "ipython3",
   "version": "3.9.13"
  }
 },
 "nbformat": 4,
 "nbformat_minor": 5
}
